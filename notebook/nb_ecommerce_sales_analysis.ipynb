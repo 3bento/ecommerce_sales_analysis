{
 "cells": [
  {
   "metadata": {},
   "cell_type": "code",
   "outputs": [],
   "execution_count": null,
   "source": "# 📈 Análise de vendas de comércio eletrônico\n",
   "id": "6bda5c90cab8ba81"
  },
  {
   "cell_type": "markdown",
   "id": "ed423b76-0770-4147-bd4d-5f0ffe370445",
   "metadata": {},
   "source": [
    "#### Sobre o conjunto de dados\n",
    "\n",
    "> \n",
    "Descrição:\n",
    "> \n",
    "Explore um conjunto de dados abrangente de vendas de e-commerce, abrangendo uma variedade de categorias de produtos, preços, avaliações de clientes e tendências de vendas no último ano. Este conjunto de dados é ideal para analisar tendências de mercado, comportamento do cliente e desempenho de vendas. Explore os dados para descobrir insights que podem otimizar listagens de produtos, estratégias de preços e campanhas de marketing\n",
    "\n",
    "\n",
    "> Análises potenciais:\n",
    "\n",
    "+ Identicação de s categorias de produtos de melhor desempenho.\n",
    "+ Analisde o impacto dos preços nas vendas e avaliações de clientes.\n",
    "T tendências e padrões de vendas sazonai\n",
    "+ Modelos de previsão.\n",
    "+ Recomendaçõess.\n",
    "\n",
    "\n",
    "\n",
    "#### Colunas do DF:\n",
    "\n",
    "<details>\n",
    "  <summary>Expandir colunas</summary>\n",
    "  <p><strong>product_id</strong>: Identificador exclusivo para cada produto.</p>\n",
    "  <p><strong>product_name</strong>: Nome do produto.</p>\n",
    "  <p><strong>category</strong>: Categoria do produto.</p>\n",
    "  <p><strong>price</strong>: Preço do produto.</p>\n",
    "  <p><strong>review_score</strong>: Pontuação média de avaliação do cliente (1 a 5).</p>\n",
    "  <p><strong>review_count</strong>: Número total de avaliações.</p>\n",
    "  <p><strong>sales_month_1 a sales_month_12</strong>: Dados de vendas mensais para cada produto no último ano.</p>\n",
    "</</detais> \n",
    " \n",
    "e vendas sazonais.valiações."
   ]
  },
  {
   "cell_type": "code",
   "id": "ad618bbc-7955-4fbf-ba9e-61c81067cb2d",
   "metadata": {},
   "source": [
    "#Importando as principais bibliotecas\n",
    "import pandas as pd\n",
    "import numpy as np\n",
    "import matplotlib\n",
    "import seaborn as sns\n",
    "%matplotlib inline\n",
    "import matplotlib.pyplot as plt\n",
    "from ydata_profiling import ProfileReport\n",
    "import ipywidgets as widgets\n",
    "import joblib\n",
    "\n",
    "#Bibliotecas para analise de regressão linear\n",
    "from sklearn.model_selection import train_test_split\n",
    "from sklearn.ensemble import RandomForestRegressor\n",
    "from sklearn.linear_model import LinearRegression\n",
    "from xgboost import XGBRegressor\n",
    "from sklearn.ensemble import GradientBoostingRegressor\n",
    "from sklearn.metrics import mean_absolute_error, mean_squared_error"
   ],
   "outputs": [],
   "execution_count": null
  },
  {
   "cell_type": "code",
   "id": "58fd0865-7130-435c-b610-46744ad8edfa",
   "metadata": {},
   "source": [
    "#Leitura do df \n",
    "df = pd.read_csv('../data/ecommerce_sales_analysis_input.csv')\n",
    "\n",
    "display(df)"
   ],
   "outputs": [],
   "execution_count": null
  },
  {
   "cell_type": "markdown",
   "id": "9ef6f1a1-e18e-4b5e-8ae9-a880569f943d",
   "metadata": {},
   "source": [
    "## 1° Analise Exploratoria"
   ]
  },
  {
   "cell_type": "code",
   "id": "e0cf5103-bb46-4cac-a0f0-608a7b3af75e",
   "metadata": {},
   "source": [
    "#Analise das colunas e tipos de dados\n",
    "df.info()"
   ],
   "outputs": [],
   "execution_count": null
  },
  {
   "cell_type": "code",
   "id": "2968203d-9bda-44a5-8f6f-fc36dce7ea62",
   "metadata": {},
   "source": [
    "df.describe()"
   ],
   "outputs": [],
   "execution_count": null
  },
  {
   "cell_type": "markdown",
   "id": "6d7c359f-7106-4424-be6b-89dcefbc0895",
   "metadata": {},
   "source": [
    "\n",
    "**Analise inicial: Foi possivel validar as colunas e tipos de dados que cada coluna possui e é percepitivel que este df trata-se de uma base de dados ja \"Tratada\". Devido a não necessidade de nenhum ajuste inicial, por exemplo:  tido de dado e valores nulos**\n",
    "\n",
    "> Ações necassarias: Criação de features para analise dos comportamentos dos dados (Analise descritiva)"
   ]
  },
  {
   "cell_type": "markdown",
   "id": "23bfa40e-f482-467b-8750-0e9e079ad20f",
   "metadata": {},
   "source": [
    "## 2° Analise Descritiva"
   ]
  },
  {
   "cell_type": "markdown",
   "id": "257857af-50f2-435f-8baf-2f4e98c26d14",
   "metadata": {},
   "source": [
    "### Feature Engineering\n",
    "\n",
    "\n",
    "#### Criação de novas colunas com base em estatísticas agregadas:\n",
    "\n",
    "> Média de vendas mensais: Coluna que represente a média de vendas por mês para cada produto.\n",
    "\n",
    "> Variância das vendas: Coluna com a variância das vendas mensais para dar uma ideia de quanto as vendas variam ao longo do tempo.\n",
    "\n",
    "> Proporção do preço em relação à média da categoria: Coluna para calcular o preço de um produto em relação à média dos preços da categoria.\n",
    "\n",
    "> Log-transform: Aplicar uma transformação logarítmica em variáveis como preço ou vendas totais pode ajudar a estabilizar a variância e tornar os padrões mais visíveis.\n",
    "\n",
    "> Faixas de preço: Criação de categorias para faixas de preço, como \"baixo\", \"médio\" e \"alto\".\n",
    "\n",
    "> Mês de pico de vendas: \"Analise de sazonalidade\" para identificar o mês em que cada produto teve o pico de vendas.\n",
    "\n",
    "> Interação entre preço e avaliação: Mutilicar o preço pela pontuação de avaliação para entender o impacto combinado no desempenho do produto.\n",
    "\n",
    "> Quantidade total vendida: Coluna com a soma de todas as unidades vendidas de cada produto.\n",
    "\n",
    "> Valor total vendido: Coluna com a multiplicação da coluna quantidade vendida com a coluna price\n",
    "\n",
    "> Encoding de categorias: vamos utilizar o One-Hot Encoding, pois pretendemos usar modelos de aprendizado de máquina, o One-Hot Encoding pode ser mais apropriado para categorizar as colunas, ao inves de Label Encoding que é mais apropriado para categorizar ordem implicita.\n",
    "\n",
    "##### Exemplos de Encoding:\n",
    "1. Label Encoding (Codificação por Rótulos):\n",
    "Quando usar: É útil quando as categorias têm uma ordem implícita ou quando você deseja manter as categorias em uma única coluna com valores numéricos.\n",
    "Como funciona: Cada categoria única é substituída por um número inteiro. Por exemplo, se você tem as categorias \"Baixo\", \"Médio\" e \"Alto\", elas podem ser codificadas como 0, 1 e 2, respectivamente.\n",
    "Limitações: Essa abordagem cria uma ordem numérica que pode não fazer sentido se as categorias forem nominais (sem ordem intrínseca).\n",
    "\n",
    "\n",
    "\n",
    "2. One-Hot Encoding:\n",
    "Quando usar: É mais adequado quando as categorias são nominais, ou seja, não têm uma ordem intrínseca, e você não deseja impor uma ordem artificial. Também é a abordagem mais comum em aprendizado de máquina.\n",
    "Como funciona: Cria colunas binárias (0 ou 1) para cada categoria única, onde 1 indica a presença da categoria para uma linha específica.\n",
    "Limitações: Pode resultar em um grande número de colunas se houver muitas categorias diferentes.\n",
    "\n",
    "\n",
    "\n",
    "\n",
    "```python\n",
    "\n",
    "# Exemplo sintaxe: Label Encoding\n",
    "\n",
    "from sklearn.preprocessing import LabelEncoder\n",
    "\n",
    "label_encoder = LabelEncoder()\n",
    "df['categoria_encoded'] = label_encoder.fit_transform(df['categoria\n",
    "\n",
    "\n",
    "```\n",
    "\n",
    "```python\n",
    "# Exemplo sintaxe: One-Hot Encoding\n",
    "\n",
    "df = pd.get_dummies(df, columns=['categoria'], prefix='cat')es.\n",
    "\n"
   ]
  },
  {
   "cell_type": "code",
   "id": "2a940331-a63d-4cc7-8456-30e45a4e451f",
   "metadata": {},
   "source": [
    "# Criação de duas colunas com a media de vendas mensais e Variancia das vendas:\n",
    "df['mean_sales'] = df[[f'sales_month_{i}' for i in range(1, 13)]].mean(axis=1)\n",
    "df['variance_sales'] = df[[f'sales_month_{i}' for i in range(1, 13)]].var(axis=1)"
   ],
   "outputs": [],
   "execution_count": null
  },
  {
   "cell_type": "code",
   "id": "0738aeed-cdfa-4e44-8f51-b01e154d508e",
   "metadata": {},
   "source": [
    "# Criação de coluna com a proporção do preço em relação a media da categoria\n",
    "df['price_to_category_mean'] = df['price'] / df.groupby('category')['price'].transform('mean')"
   ],
   "outputs": [],
   "execution_count": null
  },
  {
   "cell_type": "code",
   "id": "5d78d4ea-b953-402c-927d-2f0a418bec4b",
   "metadata": {},
   "source": [
    "#Criação de duas features [Qtd.Total vendido] e [Vlr.Total vendido]\n",
    "df['quantity_total_ sold'] = df[['sales_month_1', 'sales_month_2', 'sales_month_3',\\\n",
    "                              'sales_month_4','sales_month_5','sales_month_6',\\\n",
    "                              'sales_month_7','sales_month_8','sales_month_9',\\\n",
    "                              'sales_month_10','sales_month_11','sales_month_12']].sum(axis=1)\n",
    "\n",
    "df['amount_total_sold'] = df['quantity_total_ sold'] * df['price']"
   ],
   "outputs": [],
   "execution_count": null
  },
  {
   "cell_type": "code",
   "id": "7f748f22-9853-49d2-a9b3-3d5de469cc79",
   "metadata": {},
   "source": [
    "#Transformação logaritimica nas variaveis de preco e venda para tonar os padõres mais visiveis\n",
    "df['log_price'] = np.log1p(df['price'])\n",
    "df['log_total_sales'] = np.log1p(df['amount_total_sold'])"
   ],
   "outputs": [],
   "execution_count": null
  },
  {
   "cell_type": "code",
   "id": "16621e2b-27ed-410c-b6c3-991d32215e8c",
   "metadata": {},
   "source": [
    "#Criação de categorias\n",
    "bins = [0, 100, 300, np.inf]\n",
    "labels = ['Low', 'Medium', 'High']\n",
    "df['price_range'] = pd.cut(df['price'], bins=bins, labels=labels)"
   ],
   "outputs": [],
   "execution_count": null
  },
  {
   "cell_type": "code",
   "id": "bd249f95-8348-45a3-8f01-8071901150c5",
   "metadata": {},
   "source": [
    "#Analise de sazonalidade \n",
    "df['peak_month'] = df[[f'sales_month_{i}' for i in range(1, 13)]].idxmax(axis=1).str.extract(r'(\\d+)').astype(int)"
   ],
   "outputs": [],
   "execution_count": null
  },
  {
   "cell_type": "code",
   "id": "de43b29a-b0b4-4cbf-acd9-7661ae7af298",
   "metadata": {},
   "source": [
    "#Interação entre preço e avaliação: \n",
    "df['price_review_interaction'] = df['price'] * df['review_score']"
   ],
   "outputs": [],
   "execution_count": null
  },
  {
   "cell_type": "code",
   "id": "288787d1-ac56-499a-9575-fd5484be11fa",
   "metadata": {
    "scrolled": true
   },
   "source": [
    "#Gerando relatorio Profiling Report para ler as fetures e identificar media, mediana, desvio padrão e etc..\n",
    "profile = ProfileReport(df, title=\"Profiling Report\") \n",
    "profile.to_file(\"profiling_report.html\") # Salvando arquivo HTML\n",
    "profile # Devido ao problema de visualização do girhub, o relatorio HTML foi salvo como profiling_report.html"
   ],
   "outputs": [],
   "execution_count": null
  },
  {
   "cell_type": "code",
   "id": "4af37126-c7b1-4d75-a8c5-9f174f8097b7",
   "metadata": {},
   "source": [
    "#Distribuição de vendas médias por categoria \n",
    "plt.figure(figsize=(10, 6))\n",
    "sns.boxplot(x='category', y='mean_sales', data=df)\n",
    "plt.title('Boxplot de Vendas Médias por Categoria')\n",
    "plt.xticks(rotation=45)\n",
    "plt.show()"
   ],
   "outputs": [],
   "execution_count": null
  },
  {
   "cell_type": "markdown",
   "id": "0fb7d295-7a41-4bc0-93c5-7e8cfa1cb112",
   "metadata": {},
   "source": [
    "##### Conclusão boxplot\n",
    "As categorias apresentam distribuições de vendas relativamente equilibradas, exceto Books, que mostra maior variabilidade, e Electronics, que tem outliers indicando vendas pontuais altas.\n",
    "Pode ser interessante investigar mais a fundo os outliers em Electronics para entender o que impulsionou as vendas nesses casos."
   ]
  },
  {
   "cell_type": "code",
   "id": "e8742d72-a1d7-4973-9ccc-d8809aac4105",
   "metadata": {},
   "source": [
    "#Criação de Categorias (Faixas de Preço)\n",
    "plt.figure(figsize=(9.2, 3))\n",
    "sns.countplot(x='price_range', data=df)\n",
    "plt.title('Contagem de Produtos por Faixa de Preço')\n",
    "plt.xlabel('Faixa de Preço')\n",
    "plt.ylabel('Contagem')\n",
    "plt.show()\n",
    "\n",
    "plt.tight_layout()\n",
    "plt.show()"
   ],
   "outputs": [],
   "execution_count": null
  },
  {
   "cell_type": "markdown",
   "id": "4449792a-dd42-4ac0-b5b9-84f0abad750a",
   "metadata": {},
   "source": [
    "##### Interpretação dos Padrões:\n",
    "\n",
    "+ Distribuição da faixa de preço: Este grafico apenas confirma a analise de distribuição de valores, porem sem a plicação logarítmica nos preços, o que mostra consistência na conclusão da analise do conjuntos de graficos no 'profile.html' onde conseguimos ver a adistribuição no log_total_sales e log_price. A distribuição do volume de produtos e valor estão classificados entre valores medios e altos em relação a todo volume de produtos, ou seja possuimos uma grande quantidade de produtos com preco medio e alta em relação a todos os produtos do e-comerce."
   ]
  },
  {
   "cell_type": "code",
   "id": "7b0c3cc7-2c39-4282-8f61-b67fe9106c51",
   "metadata": {},
   "source": [
    "# Analise de Sazonalidade (Mês de Pico de Vendas):\n",
    "plt.figure(figsize=(10, 6))\n",
    "sns.countplot(x='peak_month', data=df)\n",
    "plt.title('Mês de Pico de Vendas por Produto')\n",
    "plt.xlabel('Mês')\n",
    "plt.ylabel('Contagem de Produtos')\n",
    "plt.show()"
   ],
   "outputs": [],
   "execution_count": null
  },
  {
   "cell_type": "markdown",
   "id": "6972b1dc-55cb-47e6-8d05-1a755311f58c",
   "metadata": {},
   "source": [
    "##### Analise sazonalidade\n",
    "\n",
    "1. Interpretação:\n",
    "\n",
    "+ Mês 7 (Julho): É claramente o mês com o maior número de produtos atingindo seu pico de vendas. Isso pode indicar uma forte demanda sazonal, possivelmente devido a promoções de meio de ano ou férias.\n",
    "\n",
    "+ Demais Meses: Há uma distribuição relativamente uniforme para os outros meses, com exceção do mês 12 (Dezembro), que tem a menor contagem de produtos atingindo o pico de vendas. Isso pode ser um indicativo de que alguns produtos não têm um aumento significativo de vendas durante o período natalino."
   ]
  },
  {
   "cell_type": "code",
   "id": "831dc93f-dd46-4f45-8af8-57b901c77959",
   "metadata": {},
   "source": [
    "# Cria uma tabela cruzada (crosstab) para contar as categorias por mês de pico de vendas\n",
    "category_peak_month = pd.crosstab(df['peak_month'], df['category'])\n",
    "\n",
    "# Cria um gráfico de calor (heatmap)\n",
    "plt.figure(figsize=(10, 5))\n",
    "sns.heatmap(category_peak_month, cmap='Blues', annot=True, fmt='d')\n",
    "plt.title('Categorias de Produtos por Mês de Pico de Vendas')\n",
    "plt.xlabel('Categoria')\n",
    "plt.ylabel('Mês de Pico')\n",
    "plt.show()"
   ],
   "outputs": [],
   "execution_count": null
  },
  {
   "cell_type": "markdown",
   "id": "41a7fe1c-043a-4b3f-800b-7a42f4542eba",
   "metadata": {},
   "source": [
    "##### Interpretação dos Padrões:\n",
    "\n",
    "+ Com o mapa de calor conseguimos entender quais foram as categorias mais vendidades durantes os meses, é notavel a quantidade de vendas de eletronicos no mes 7 (Julho) o que impactou significativamente nas vendas do mês, devido a alta correlação. O mesmo impcto em eletetronicos ocorreu em Dezembro, porem o impacto foi o contrario do mês de Julho."
   ]
  },
  {
   "cell_type": "code",
   "id": "b542d770-25b8-4608-8e31-cc7f3f8953cc",
   "metadata": {},
   "source": [
    "#Gráfico de dispersão para explorar a relação entre preço, avaliação e a interação entre eles\n",
    "plt.figure(figsize=(10, 6))\n",
    "sns.scatterplot(x='price', y='price_review_interaction', hue='review_score', data=df, palette='viridis')\n",
    "plt.title('Interação entre Preço e Avaliação')\n",
    "plt.xlabel('Preço')\n",
    "plt.ylabel('Interação Preço x Avaliação')\n",
    "plt.show()"
   ],
   "outputs": [],
   "execution_count": null
  },
  {
   "cell_type": "markdown",
   "id": "809db204-a9ce-4fc4-aefe-c7f07da85c34",
   "metadata": {},
   "source": [
    "##### Interpretação dos Padrões:\n",
    "\n",
    "O gráfico mostra a relação entre o preço e a avaliação de um produto. O eixo x representa o preço do produto, e o eixo y representa a avaliação média do produto. A linha no gráfico mostra a tendência geral da relação entre o preço e a avaliação.\n",
    "\n",
    "No geral, o gráfico mostra que há uma correlação positiva entre o preço e a avaliação do produto. Isso significa que, em geral, produtos com preços mais altos tendem a ter avaliações mais altas."
   ]
  },
  {
   "cell_type": "markdown",
   "id": "aa11209f-a412-486f-8092-ef187a5da8cd",
   "metadata": {},
   "source": [
    "### Conclusão analise exploratoria e descritiva\n",
    "\n",
    "1. count: Todas as colunas têm 1000 registros. Isso indica que não há valores ausentes nos dados.\n",
    "\n",
    "2. mean (média):\n",
    "O preço médio dos produtos (price) é 247,67.\n",
    "A pontuação média das avaliações (review_score) é 3,03 o que sugere que, em média, os produtos têm uma avaliação satisfatória.\n",
    "As vendas médias por mês variam entre 487,19 e 514,80, mostrando uma certa consistência nas vendas ao longo dos meses.\n",
    "\n",
    "\n",
    "3. std (desvio padrão):\n",
    "O desvio padrão do preço (price) é 144,61, indicando que há uma grande variação nos preços dos produtos. Esse desvio representa 58% do valor medio do produto gerando uma grande dispeção nos preços.\n",
    "\n",
    "4. A pontuação de avaliação tem um desvio padrão de 1,17, sugerindo alguma dispersão nas avaliações dos produtos.\n",
    "As vendas mensais têm desvios padrão em torno de 280-290, o que pode indicar que há variações consideráveis nas vendas mensais entre os produtos.\n",
    "\n",
    "\n",
    "5. min e max:\n",
    "O menor preço registrado é 7,29, enquanto o maior é 499,86. Isso sugere uma ampla faixa de preços.\n",
    "A pontuação de avaliação varia de 1 a 5, com alguns produtos recebendo avaliações baixas (1) e outros recebendo a pontuação máxima (5).\n",
    "As vendas mensais têm um mínimo de 0, indicando que alguns produtos não venderam nada em certos meses, enquanto o máximo é 1000, mostrando que alguns produtos tiveram vendas muito altas.\n",
    "\n",
    "6. Quartis (25%, 50%, 75%):\n",
    "Para o preço, 25% dos produtos têm preços abaixo de 121,81, e 75% dos produtos têm preços abaixo de 373,43.\n",
    "A pontuação da avaliação mediana é 3,1, o que confirma que a maioria dos produtos tem uma avaliação ao redor da média.\n",
    "As vendas mensais medianas variam, mas a maioria está na faixa de 479 a 543, o que mostra uma distribuição relativamente equilibrada das vendas.\n",
    "\n",
    "7. Correlação de variaves:\n",
    "Notei que em alguns meses a correlação entre categoria e mes de venda ficam mais fortes entre os meses do final de ano, o que sugere que alguns produtos são mais vendidos nos ultimos meses do ano, certamente em datas comemorativas.\n",
    "\n",
    "#### Conclusões gerais:\n",
    "\n",
    "#### Sobre o DF:\n",
    "+ O dataset possui uma certa consistencia nos dados, não foi identificador outliers relevantes dentro do periodo de vendas de um ano, nem valores nulos, foi necessario aplicar as tecnicas de feature Engineering para identifica padrões e extrair insights na analise descritiva.\n",
    "\n",
    "+ Principais percepções: As categorias apresentam distribuições de vendas relativamente equilibradas, exceto Books, que mostra maior variabilidade, e Electronics, que tem outliers indicando vendas pontuais altas.\n",
    "\n",
    "    - Sazonalidade: O Mês de julho claramente teve o maior número de produtos atingindo seu pico de vendas equanto os demais meses se manteve uniforme com exceção de Dezembro que tem a menor contagem de produtos,s. Isso pode ser um indicativo de que alguns produtos não têm um aumento significativo de vendas durante o período natalin\n",
    "    - Iteração entre preço e avalidação: Existe uma correlação entre valor do produto e avaliação, indicando que os produtos melhor avaliados são os de mairo preço, ou seja o preço baixo do produto nao indica uma satifação maior na compra.\n",
    "\n",
    "\n",
    "\n",
    "\n",
    "+ Pontuação de avaliação: A pontuação média de avaliação está perto de 3, o que pode sugerir que há espaço para melhoria na qualidade ou no atendimento relacionado aos produtos.\n",
    "\n",
    "+ Variação nas vendas mensais: Embora haja consistência nas vendas médias mensais, o desvio padrão alto e os valores mínimos e máximos indicam que alguns produtos vendem muito bem, enquanto outros podem não estar vendendo tão bem, ou mesmo nada, em certos meses."
   ]
  },
  {
   "cell_type": "markdown",
   "id": "29d7b519-3076-49b5-8dff-98438fff4b40",
   "metadata": {},
   "source": [
    "## 3° Analise preditiva: Modelos de ML"
   ]
  },
  {
   "cell_type": "markdown",
   "id": "1e1ae2d1-33f3-45e2-b81c-3bf00b6cf494",
   "metadata": {},
   "source": [
    "#### Modelagem dos dados"
   ]
  },
  {
   "cell_type": "code",
   "id": "1a7c7768-24fa-40d6-abd1-06e98e99dc38",
   "metadata": {
    "ExecuteTime": {
     "end_time": "2024-08-20T02:25:59.302839Z",
     "start_time": "2024-08-20T02:25:59.274914Z"
    }
   },
   "source": [
    "# Criação de One-Hot Encoding para cada categoria de produto\n",
    "df_category = pd.get_dummies(df, columns=['category'], prefix='cat')\n",
    "\n",
    "# Definindo as variáveis independentes (X) e a variável dependente (y)\n",
    "df_category = df.drop(columns=['amount_total_sold'])  # Excluindo apenas a coluna 'amount_total_sold' para não inveizar o modelo\n",
    "df_amount_total_sold = df['amount_total_sold']  # Variável que desejamos prever\n",
    "\n",
    "# Dividindo os dados em treino e teste\n",
    "df_category_train, df_category_test, df_amount_total_sold_train, df_amount_total_sold_test = train_test_split(df_category, df_amount_total_sold, test_size=0.2, random_state=42)\n",
    "\n",
    "# Salvando as bases de treino e teste para futura visualização\n",
    "df_category_train.to_csv('../data/ouro/output_df_category_train.csv', index=False)\n",
    "df_category_test.to_csv('../data/ouro/output_df_category_test.csv', index=False)\n",
    "df_amount_total_sold_train.to_csv('../data/ouro/output_df_amount_total_sold_train.csv', index=False)\n",
    "df_amount_total_sold_test.to_csv('../data/ouro/output_df_amount_total_sold_test.csv', index=False)"
   ],
   "outputs": [],
   "execution_count": 25
  },
  {
   "cell_type": "markdown",
   "id": "4ee531c5-2ebf-4a2b-af47-fb09aa663c1f",
   "metadata": {},
   "source": [
    "#### Considerações\n",
    "\n",
    "1. **Proporção de Treino e Teste**\n",
    "+ **Proporção Comum:** Um padrão frequentemente usado é 80% dos dados para treino e 20% para teste. Isso permite que o modelo seja treinado em uma amostra robusta, enquanto ainda é avaliado em um conjunto de dados significativo.\n",
    "+ **Ajuste para Pequenos Conjuntos de Dados:** Se o conjunto de dados for pequeno, você pode considerar aumentar a proporção de dados de treino (por exemplo, 85% para treino e 15% para teste) para garantir que o modelo tenha dados suficientes para aprender.\n",
    "+ **Ajuste para Grandes Conjuntos de Dados:** Para grandes volumes de dados, uma divisão de 70% para treino e 30% para teste também pode ser apropriada.\n",
    "\n",
    "2. **Distribuição das Variáveis**\n",
    "+ **Distribuição Similar:** A divisão deve preservar a distribuição das variáveis, especialmente da variável alvo (a que você deseja prever). Isso significa que tanto a base de treino quanto a de teste devem refletir a mesma variabilidade dos dados.\n",
    "+ **Estratificação:** Se você tiver uma variável categórica importante, como classes desbalanceadas (por exemplo, muitas vendas baixas e poucas vendas altas), a divisão deve ser estratificada para garantir que ambas as bases contenham uma proporção representativa de cada categoria."
   ]
  },
  {
   "cell_type": "markdown",
   "id": "3298a5fd-b27c-4956-a9e5-5a4308412bb5",
   "metadata": {},
   "source": [
    "### Modelo de treino : Random Forest "
   ]
  },
  {
   "cell_type": "code",
   "id": "21cadec8-ce57-462e-9039-c402d5eb3ae5",
   "metadata": {},
   "source": [
    "# Removendo colunas não numéricas\n",
    "df_category_train = df_category_train.drop(columns=['product_name', 'category'])\n",
    "df_category_test = df_category_test.drop(columns=['product_name', 'category'])\n",
    "\n",
    "# Aplicando One-Hot Encoding na coluna 'price_range'\n",
    "df_category_train = pd.get_dummies(df_category_train, columns=['price_range'], prefix='price_range')\n",
    "df_category_test = pd.get_dummies(df_category_test, columns=['price_range'], prefix='price_range')\n",
    "\n",
    "# Treinando o modelo\n",
    "model = RandomForestRegressor(random_state=42)\n",
    "model.fit(df_category_train, df_amount_total_sold_train)\n",
    "\n",
    "# Fazendo previsões\n",
    "y_pred_rf = model.predict(df_category_test)\n",
    "\n",
    "# Avaliação do modelo\n",
    "mae_rf = mean_absolute_error(df_amount_total_sold_test, y_pred)\n",
    "mse_rf= mean_squared_error(df_amount_total_sold_test, y_pred)\n",
    "print(f'MAE: {mae}, MSE: {mse}')\n"
   ],
   "outputs": [],
   "execution_count": null
  },
  {
   "cell_type": "markdown",
   "id": "39168f1d-a71e-426f-8a5a-e19f09a8eb8e",
   "metadata": {},
   "source": [
    "### Modelo de treino : Regressão Linear"
   ]
  },
  {
   "cell_type": "code",
   "id": "31b6e7b8-8a29-4cb9-9dda-37824f7d6e10",
   "metadata": {},
   "source": [
    "# Instanciando o modelo\n",
    "linear_model = LinearRegression()\n",
    "\n",
    "# Treinando o modelo\n",
    "linear_model.fit(df_category_train, df_amount_total_sold_train)\n",
    "\n",
    "# Fazendo previsões\n",
    "y_pred_lr = linear_model.predict(df_category_test)\n",
    "\n",
    "# Avaliação do modelo\n",
    "mae_linear = mean_absolute_error(df_amount_total_sold_test, y_pred_linear)\n",
    "mse_linear = mean_squared_error(df_amount_total_sold_test, y_pred_linear)\n",
    "print(f'Regressão Linear - MAE: {mae_linear}, MSE: {mse_linear}')"
   ],
   "outputs": [],
   "execution_count": null
  },
  {
   "cell_type": "markdown",
   "id": "ac9a38a8-2363-4c72-bc06-b76027afb641",
   "metadata": {},
   "source": [
    "### Modelo de treino : XGBoost Regressor"
   ]
  },
  {
   "cell_type": "code",
   "id": "1dbb4c22-89d8-42a6-a796-874188f91fe6",
   "metadata": {},
   "source": [
    "# Instanciando o modelo\n",
    "xgb_model = XGBRegressor(random_state=42)\n",
    "\n",
    "# Treinando o modelo\n",
    "xgb_model.fit(df_category_train, df_amount_total_sold_train)\n",
    "\n",
    "# Fazendo previsões\n",
    "y_pred_xgb = xgb_model.predict(df_category_test)\n",
    "\n",
    "# Avaliação do modelo\n",
    "mae_xgb = mean_absolute_error(df_amount_total_sold_test, y_pred_xgb)\n",
    "mse_xgb = mean_squared_error(df_amount_total_sold_test, y_pred_xgb)\n",
    "print(f'XGBoost Regressor - MAE: {mae_xgb}, MSE: {mse_xgb}')"
   ],
   "outputs": [],
   "execution_count": null
  },
  {
   "cell_type": "markdown",
   "id": "6d9dfa3b-fb09-4e55-9b1c-b18fa63a23da",
   "metadata": {},
   "source": [
    "### Modelo de treino : Gradient Boosting Regressor"
   ]
  },
  {
   "cell_type": "code",
   "id": "5125b980-efd8-47ef-9f94-3f10814d1b1d",
   "metadata": {},
   "source": [
    "# Instanciando o modelo\n",
    "gbr_model = GradientBoostingRegressor(random_state=42)\n",
    "\n",
    "# Treinando o modelo\n",
    "gbr_model.fit(df_category_train, df_amount_total_sold_train)\n",
    "\n",
    "# Fazendo previsões\n",
    "y_pred_gbr = gbr_model.predict(df_category_test)\n",
    "\n",
    "# Avaliação do modelo\n",
    "mae_gbr = mean_absolute_error(df_amount_total_sold_test, y_pred_gbr)\n",
    "mse_gbr = mean_squared_error(df_amount_total_sold_test, y_pred_gbr)\n",
    "print(f'Gradient Boosting Regressor - MAE: {mae_gbr}, MSE: {mse_gbr}')"
   ],
   "outputs": [],
   "execution_count": null
  },
  {
   "cell_type": "markdown",
   "id": "29787cd5-4615-4d62-a1aa-fb957cfba923",
   "metadata": {},
   "source": [
    "### Analise do melhor modelo"
   ]
  },
  {
   "cell_type": "code",
   "id": "52c6a6f9-dfe5-4515-899f-3a204cafef3a",
   "metadata": {},
   "source": [
    "# Definindo os valores de MAE e MSE para cada modelo\n",
    "model_names = ['Random Forest', 'Linear Regression', 'XGBoost Regressor', 'Gradient Boosting']\n",
    "mae_values = [mae_rf, mae_linear, mae_xgb, mae_gbr]\n",
    "mse_values = [mse_rf, mse_linear, mse_xgb, mse_gbr]\n",
    "\n",
    "# Criando DataFrame para as métricas\n",
    "metrics_df = pd.DataFrame({\n",
    "    'Model': model_names,\n",
    "    'MAE': mae_values,\n",
    "    'MSE': mse_values\n",
    "})\n",
    "\n",
    "# Criando a figura e os eixos\n",
    "fig, axes = plt.subplots(1, 2, figsize=(15, 5))  # 1 linha, 2 colunas\n",
    "\n",
    "# Plotando o gráfico de MAE\n",
    "sns.barplot(ax=axes[0], x='Model', y='MAE', data=metrics_df, hue='Model', dodge=False, palette='viridis', legend=False)\n",
    "axes[0].set_title('Comparação de MAE entre Modelos')\n",
    "axes[0].set_ylabel('MAE')\n",
    "axes[0].set_xlabel('Modelos')\n",
    "\n",
    "# Plotando o gráfico de MSE\n",
    "sns.barplot(ax=axes[1], x='Model', y='MSE', data=metrics_df, hue='Model', dodge=False, palette='viridis', legend=False)\n",
    "axes[1].set_title('Comparação de MSE entre Modelos')\n",
    "axes[1].set_ylabel('MSE')\n",
    "axes[1].set_xlabel('Modelos')\n",
    "\n",
    "# Ajustando o layout\n",
    "plt.tight_layout()\n",
    "\n",
    "# Mostrar a figura\n",
    "plt.show()"
   ],
   "outputs": [],
   "execution_count": null
  },
  {
   "cell_type": "markdown",
   "id": "c12ac6f1-d12b-4bc3-8c1a-013f3a73f2f8",
   "metadata": {},
   "source": [
    "#### Conclusão do melhor modelo:\n",
    "\n",
    "##### Interpretação dos Resultados\n",
    "+ Random Forest: Apresentou os menores valores de MAE e MSE, indicando que é o modelo mais preciso entre os testados.\n",
    "+ Regressão Linear: Teve os maiores valores de MAE e MSE, sugerindo que é o modelo menos preciso.\n",
    "+ XGBoost Regressor e Gradient Boosting Regressor: Apresentaram resultados intermediários, com o Gradient Boosting sendo mais preciso que o XGBoost.\n",
    "\n",
    "\n",
    "##### Análise dos Resultados\n",
    "\n",
    "> MAE (Mean Absolute Error):\n",
    "\n",
    "+ O MAE da Regressão Linear (98,874.36) é muito maior do que o da Random Forest (3,833.85). Isso indica que a Random Forest tem um desempenho significativamente melhor em termos de erro absoluto médio.\n",
    "\n",
    "\n",
    ">MSE (Mean Squared Error):\n",
    "\n",
    "+ O MSE da Regressão Linear (18,736,420,807.01) também é muito superior ao da Random Forest (42,981,625.24), mostrando que a Regressão Linear possui um erro quadrático médio bem maior, o que sugere que ela tem mais dificuldades em prever com precisão os valores extremos."
   ]
  },
  {
   "cell_type": "markdown",
   "id": "f6d5190f-22d3-4e0f-a882-eaccfa33a825",
   "metadata": {},
   "source": [
    "### Visualizações Preditivas"
   ]
  },
  {
   "cell_type": "code",
   "id": "7e40d74a-faab-4a4f-b806-0478bd18000c",
   "metadata": {},
   "source": [
    "# Lista de previsões de cada modelo\n",
    "model_predictions = {\n",
    "    'Random Forest': y_pred_rf,\n",
    "    'Regressão Linear': y_pred_lr,\n",
    "    'XGBoost Regressor': y_pred_xgb,\n",
    "    'Gradient Boosting Regressor': y_pred_gbr\n",
    "}\n",
    "\n",
    "# Criando a figura e os eixos para os 4 gráficos (2x2 layout)\n",
    "fig, axes = plt.subplots(2, 2, figsize=(14, 10))\n",
    "\n",
    "# Acessar cada eixo para plotar os gráficos\n",
    "axes = axes.ravel()  # Ravel converte a matriz de eixos em uma lista para fácil iteração\n",
    "\n",
    "for idx, (model_name, y_pred) in enumerate(model_predictions.items()):\n",
    "    axes[idx].scatter(df_amount_total_sold_test, y_pred, c='blue', marker='o', label='Previsões')\n",
    "    axes[idx].plot([min(df_amount_total_sold_test), max(df_amount_total_sold_test)], [min(df_amount_total_sold_test), max(df_amount_total_sold_test)], 'k--', lw=2, label='Linha de Referência')\n",
    "    axes[idx].set_title(f'Comparação das Vendas Reais e Previstas - {model_name}')\n",
    "    axes[idx].set_xlabel('Vendas Reais')\n",
    "    axes[idx].set_ylabel('Vendas Previstas')\n",
    "    axes[idx].legend()\n",
    "    axes[idx].grid(True)\n",
    "\n",
    "# Ajusta o layout para não sobrepor os títulos e labels\n",
    "plt.tight_layout()\n",
    "plt.show()"
   ],
   "outputs": [],
   "execution_count": null
  },
  {
   "cell_type": "markdown",
   "id": "8b76c116-bbc4-40c7-b38b-9065fda04e6b",
   "metadata": {},
   "source": [
    "### Salvando os Resultados do modelo Radom Forest"
   ]
  },
  {
   "cell_type": "code",
   "id": "b9e49c73-ffb9-4113-a965-5548f3cd70e4",
   "metadata": {},
   "source": [
    "# Salvando as previsões\n",
    "pd.DataFrame(y_pred_rf, columns=['Vendas Previstas']).to_csv('vendas_previstas.csv', index=False)\n",
    "\n",
    "# Salvando o modelo\n",
    "joblib.dump(model, 'modelo_vendas_rf.pkl')\n"
   ],
   "outputs": [],
   "execution_count": null
  },
  {
   "cell_type": "code",
   "id": "5420691b-18fe-4bbc-aa87-3a2896afebfd",
   "metadata": {},
   "source": [],
   "outputs": [],
   "execution_count": null
  }
 ],
 "metadata": {
  "kernelspec": {
   "display_name": "Python 3 (ipykernel)",
   "language": "python",
   "name": "python3"
  },
  "language_info": {
   "codemirror_mode": {
    "name": "ipython",
    "version": 3
   },
   "file_extension": ".py",
   "mimetype": "text/x-python",
   "name": "python",
   "nbconvert_exporter": "python",
   "pygments_lexer": "ipython3",
   "version": "3.12.4"
  }
 },
 "nbformat": 4,
 "nbformat_minor": 5
}
