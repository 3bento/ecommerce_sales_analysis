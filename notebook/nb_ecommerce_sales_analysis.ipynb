{
 "cells": [
  {
   "cell_type": "markdown",
   "id": "5c03ec21-5163-45d0-bf80-a125637585a4",
   "metadata": {},
   "source": [
    "# 📈 Análise de vendas de comércio eletrônico\n"
   ]
  },
  {
   "cell_type": "markdown",
   "id": "ed423b76-0770-4147-bd4d-5f0ffe370445",
   "metadata": {},
   "source": [
    "#### Sobre o conjunto de dados\n",
    "\n",
    "> \n",
    "Descrição:\n",
    "> \n",
    "Explore um conjunto de dados abrangente de vendas de e-commerce, abrangendo uma variedade de categorias de produtos, preços, avaliações de clientes e tendências de vendas no último ano. Este conjunto de dados é ideal para analisar tendências de mercado, comportamento do cliente e desempenho de vendas. Explore os dados para descobrir insights que podem otimizar listagens de produtos, estratégias de preços e campanhas de marketing\n",
    "\n",
    "\n",
    "> Análises potenciais:\n",
    "\n",
    "+ Identicação de s categorias de produtos de melhor desempenho.\n",
    "+ Analisde o impacto dos preços nas vendas e avaliações de clientes.\n",
    "T tendências e padrões de vendas sazonai\n",
    "+ Modelos de previsão.\n",
    "+ Recomendaçõess.\n",
    "\n",
    "\n",
    "\n",
    "#### Colunas do DF:\n",
    "\n",
    "<details>\n",
    "  <summary>Expandir colunas</summary>\n",
    "  <p><strong>product_id</strong>: Identificador exclusivo para cada produto.</p>\n",
    "  <p><strong>product_name</strong>: Nome do produto.</p>\n",
    "  <p><strong>category</strong>: Categoria do produto.</p>\n",
    "  <p><strong>price</strong>: Preço do produto.</p>\n",
    "  <p><strong>review_score</strong>: Pontuação média de avaliação do cliente (1 a 5).</p>\n",
    "  <p><strong>review_count</strong>: Número total de avaliações.</p>\n",
    "  <p><strong>sales_month_1 a sales_month_12</strong>: Dados de vendas mensais para cada produto no último ano.</p>\n",
    "</</detais> \n",
    " \n",
    "e vendas sazonais.valiações."
   ]
  },
  {
   "cell_type": "code",
   "id": "ad618bbc-7955-4fbf-ba9e-61c81067cb2d",
   "metadata": {
    "ExecuteTime": {
     "end_time": "2024-08-20T02:02:56.340964Z",
     "start_time": "2024-08-20T02:02:56.314014Z"
    }
   },
   "source": [
    "#Importando as principais bibliotecas\n",
    "import pandas as pd\n",
    "import numpy as np\n",
    "import matplotlib\n",
    "import seaborn as sns\n",
    "%matplotlib inline\n",
    "import matplotlib.pyplot as plt\n",
    "from ydata_profiling import ProfileReport\n",
    "import ipywidgets as widgets\n",
    "import joblib\n",
    "\n",
    "#Bibliotecas para analise de regressão linear\n",
    "from sklearn.model_selection import train_test_split\n",
    "from sklearn.ensemble import RandomForestRegressor\n",
    "from sklearn.linear_model import LinearRegression\n",
    "from xgboost import XGBRegressor\n",
    "from sklearn.ensemble import GradientBoostingRegressor\n",
    "from sklearn.metrics import mean_absolute_error, mean_squared_error"
   ],
   "outputs": [
    {
     "ename": "ModuleNotFoundError",
     "evalue": "No module named 'ydata_profiling'",
     "output_type": "error",
     "traceback": [
      "\u001B[1;31m---------------------------------------------------------------------------\u001B[0m",
      "\u001B[1;31mModuleNotFoundError\u001B[0m                       Traceback (most recent call last)",
      "Input \u001B[1;32mIn [2]\u001B[0m, in \u001B[0;36m<cell line: 8>\u001B[1;34m()\u001B[0m\n\u001B[0;32m      6\u001B[0m get_ipython()\u001B[38;5;241m.\u001B[39mrun_line_magic(\u001B[38;5;124m'\u001B[39m\u001B[38;5;124mmatplotlib\u001B[39m\u001B[38;5;124m'\u001B[39m, \u001B[38;5;124m'\u001B[39m\u001B[38;5;124minline\u001B[39m\u001B[38;5;124m'\u001B[39m)\n\u001B[0;32m      7\u001B[0m \u001B[38;5;28;01mimport\u001B[39;00m \u001B[38;5;21;01mmatplotlib\u001B[39;00m\u001B[38;5;21;01m.\u001B[39;00m\u001B[38;5;21;01mpyplot\u001B[39;00m \u001B[38;5;28;01mas\u001B[39;00m \u001B[38;5;21;01mplt\u001B[39;00m\n\u001B[1;32m----> 8\u001B[0m \u001B[38;5;28;01mfrom\u001B[39;00m \u001B[38;5;21;01mydata_profiling\u001B[39;00m \u001B[38;5;28;01mimport\u001B[39;00m ProfileReport\n\u001B[0;32m      9\u001B[0m \u001B[38;5;28;01mimport\u001B[39;00m \u001B[38;5;21;01mipywidgets\u001B[39;00m \u001B[38;5;28;01mas\u001B[39;00m \u001B[38;5;21;01mwidgets\u001B[39;00m\n\u001B[0;32m     10\u001B[0m \u001B[38;5;28;01mimport\u001B[39;00m \u001B[38;5;21;01mjoblib\u001B[39;00m\n",
      "\u001B[1;31mModuleNotFoundError\u001B[0m: No module named 'ydata_profiling'"
     ]
    }
   ],
   "execution_count": 2
  },
  {
   "cell_type": "code",
   "id": "58fd0865-7130-435c-b610-46744ad8edfa",
   "metadata": {
    "ExecuteTime": {
     "end_time": "2024-08-20T02:02:28.565757Z",
     "start_time": "2024-08-20T02:02:28.545807Z"
    }
   },
   "source": [
    "#Leitura do df \n",
    "df = pd.read_csv('../data/ecommerce_sales_analysis_input.csv')\n",
    "\n",
    "display(df)"
   ],
   "outputs": [
    {
     "data": {
      "text/plain": [
       "     product_id  product_name        category   price  review_score  \\\n",
       "0             1     Product_1        Clothing  190.40           1.7   \n",
       "1             2     Product_2  Home & Kitchen  475.60           3.2   \n",
       "2             3     Product_3            Toys  367.34           4.5   \n",
       "3             4     Product_4            Toys  301.34           3.9   \n",
       "4             5     Product_5           Books   82.23           4.2   \n",
       "..          ...           ...             ...     ...           ...   \n",
       "995         996   Product_996  Home & Kitchen   50.33           3.6   \n",
       "996         997   Product_997  Home & Kitchen  459.07           4.8   \n",
       "997         998   Product_998          Sports   72.73           1.3   \n",
       "998         999   Product_999          Sports  475.37           1.2   \n",
       "999        1000  Product_1000            Toys  225.77           2.1   \n",
       "\n",
       "     review_count  sales_month_1  sales_month_2  sales_month_3  sales_month_4  \\\n",
       "0             220            479            449             92            784   \n",
       "1             903             21            989            861            863   \n",
       "2             163            348            558            567            143   \n",
       "3             951            725            678             59             15   \n",
       "4             220            682            451            649            301   \n",
       "..            ...            ...            ...            ...            ...   \n",
       "995           494            488            359            137            787   \n",
       "996           701             18            906            129             78   \n",
       "997           287            725            109            193            657   \n",
       "998           720            196            191            315            622   \n",
       "999           114            890            903            983            769   \n",
       "\n",
       "     sales_month_5  sales_month_6  sales_month_7  sales_month_8  \\\n",
       "0              604            904            446            603   \n",
       "1              524            128            610            436   \n",
       "2              771            409            290            828   \n",
       "3              937            421            670            933   \n",
       "4              620            293            411            258   \n",
       "..             ...            ...            ...            ...   \n",
       "995            678            970            282            155   \n",
       "996             19            110            403            683   \n",
       "997            215            337            664            476   \n",
       "998            854            122             65            938   \n",
       "999            134            704            648            400   \n",
       "\n",
       "     sales_month_9  sales_month_10  sales_month_11  sales_month_12  \n",
       "0              807             252             695             306  \n",
       "1              176             294             772             353  \n",
       "2              340             667             267             392  \n",
       "3               56             157             168             203  \n",
       "4              854             548             770             257  \n",
       "..             ...             ...             ...             ...  \n",
       "995             57             575             634             393  \n",
       "996            104             858             729             474  \n",
       "997            265             344             888             654  \n",
       "998            521             268              60             394  \n",
       "999            495             839             611             110  \n",
       "\n",
       "[1000 rows x 18 columns]"
      ],
      "text/html": [
       "<div>\n",
       "<style scoped>\n",
       "    .dataframe tbody tr th:only-of-type {\n",
       "        vertical-align: middle;\n",
       "    }\n",
       "\n",
       "    .dataframe tbody tr th {\n",
       "        vertical-align: top;\n",
       "    }\n",
       "\n",
       "    .dataframe thead th {\n",
       "        text-align: right;\n",
       "    }\n",
       "</style>\n",
       "<table border=\"1\" class=\"dataframe\">\n",
       "  <thead>\n",
       "    <tr style=\"text-align: right;\">\n",
       "      <th></th>\n",
       "      <th>product_id</th>\n",
       "      <th>product_name</th>\n",
       "      <th>category</th>\n",
       "      <th>price</th>\n",
       "      <th>review_score</th>\n",
       "      <th>review_count</th>\n",
       "      <th>sales_month_1</th>\n",
       "      <th>sales_month_2</th>\n",
       "      <th>sales_month_3</th>\n",
       "      <th>sales_month_4</th>\n",
       "      <th>sales_month_5</th>\n",
       "      <th>sales_month_6</th>\n",
       "      <th>sales_month_7</th>\n",
       "      <th>sales_month_8</th>\n",
       "      <th>sales_month_9</th>\n",
       "      <th>sales_month_10</th>\n",
       "      <th>sales_month_11</th>\n",
       "      <th>sales_month_12</th>\n",
       "    </tr>\n",
       "  </thead>\n",
       "  <tbody>\n",
       "    <tr>\n",
       "      <th>0</th>\n",
       "      <td>1</td>\n",
       "      <td>Product_1</td>\n",
       "      <td>Clothing</td>\n",
       "      <td>190.40</td>\n",
       "      <td>1.7</td>\n",
       "      <td>220</td>\n",
       "      <td>479</td>\n",
       "      <td>449</td>\n",
       "      <td>92</td>\n",
       "      <td>784</td>\n",
       "      <td>604</td>\n",
       "      <td>904</td>\n",
       "      <td>446</td>\n",
       "      <td>603</td>\n",
       "      <td>807</td>\n",
       "      <td>252</td>\n",
       "      <td>695</td>\n",
       "      <td>306</td>\n",
       "    </tr>\n",
       "    <tr>\n",
       "      <th>1</th>\n",
       "      <td>2</td>\n",
       "      <td>Product_2</td>\n",
       "      <td>Home &amp; Kitchen</td>\n",
       "      <td>475.60</td>\n",
       "      <td>3.2</td>\n",
       "      <td>903</td>\n",
       "      <td>21</td>\n",
       "      <td>989</td>\n",
       "      <td>861</td>\n",
       "      <td>863</td>\n",
       "      <td>524</td>\n",
       "      <td>128</td>\n",
       "      <td>610</td>\n",
       "      <td>436</td>\n",
       "      <td>176</td>\n",
       "      <td>294</td>\n",
       "      <td>772</td>\n",
       "      <td>353</td>\n",
       "    </tr>\n",
       "    <tr>\n",
       "      <th>2</th>\n",
       "      <td>3</td>\n",
       "      <td>Product_3</td>\n",
       "      <td>Toys</td>\n",
       "      <td>367.34</td>\n",
       "      <td>4.5</td>\n",
       "      <td>163</td>\n",
       "      <td>348</td>\n",
       "      <td>558</td>\n",
       "      <td>567</td>\n",
       "      <td>143</td>\n",
       "      <td>771</td>\n",
       "      <td>409</td>\n",
       "      <td>290</td>\n",
       "      <td>828</td>\n",
       "      <td>340</td>\n",
       "      <td>667</td>\n",
       "      <td>267</td>\n",
       "      <td>392</td>\n",
       "    </tr>\n",
       "    <tr>\n",
       "      <th>3</th>\n",
       "      <td>4</td>\n",
       "      <td>Product_4</td>\n",
       "      <td>Toys</td>\n",
       "      <td>301.34</td>\n",
       "      <td>3.9</td>\n",
       "      <td>951</td>\n",
       "      <td>725</td>\n",
       "      <td>678</td>\n",
       "      <td>59</td>\n",
       "      <td>15</td>\n",
       "      <td>937</td>\n",
       "      <td>421</td>\n",
       "      <td>670</td>\n",
       "      <td>933</td>\n",
       "      <td>56</td>\n",
       "      <td>157</td>\n",
       "      <td>168</td>\n",
       "      <td>203</td>\n",
       "    </tr>\n",
       "    <tr>\n",
       "      <th>4</th>\n",
       "      <td>5</td>\n",
       "      <td>Product_5</td>\n",
       "      <td>Books</td>\n",
       "      <td>82.23</td>\n",
       "      <td>4.2</td>\n",
       "      <td>220</td>\n",
       "      <td>682</td>\n",
       "      <td>451</td>\n",
       "      <td>649</td>\n",
       "      <td>301</td>\n",
       "      <td>620</td>\n",
       "      <td>293</td>\n",
       "      <td>411</td>\n",
       "      <td>258</td>\n",
       "      <td>854</td>\n",
       "      <td>548</td>\n",
       "      <td>770</td>\n",
       "      <td>257</td>\n",
       "    </tr>\n",
       "    <tr>\n",
       "      <th>...</th>\n",
       "      <td>...</td>\n",
       "      <td>...</td>\n",
       "      <td>...</td>\n",
       "      <td>...</td>\n",
       "      <td>...</td>\n",
       "      <td>...</td>\n",
       "      <td>...</td>\n",
       "      <td>...</td>\n",
       "      <td>...</td>\n",
       "      <td>...</td>\n",
       "      <td>...</td>\n",
       "      <td>...</td>\n",
       "      <td>...</td>\n",
       "      <td>...</td>\n",
       "      <td>...</td>\n",
       "      <td>...</td>\n",
       "      <td>...</td>\n",
       "      <td>...</td>\n",
       "    </tr>\n",
       "    <tr>\n",
       "      <th>995</th>\n",
       "      <td>996</td>\n",
       "      <td>Product_996</td>\n",
       "      <td>Home &amp; Kitchen</td>\n",
       "      <td>50.33</td>\n",
       "      <td>3.6</td>\n",
       "      <td>494</td>\n",
       "      <td>488</td>\n",
       "      <td>359</td>\n",
       "      <td>137</td>\n",
       "      <td>787</td>\n",
       "      <td>678</td>\n",
       "      <td>970</td>\n",
       "      <td>282</td>\n",
       "      <td>155</td>\n",
       "      <td>57</td>\n",
       "      <td>575</td>\n",
       "      <td>634</td>\n",
       "      <td>393</td>\n",
       "    </tr>\n",
       "    <tr>\n",
       "      <th>996</th>\n",
       "      <td>997</td>\n",
       "      <td>Product_997</td>\n",
       "      <td>Home &amp; Kitchen</td>\n",
       "      <td>459.07</td>\n",
       "      <td>4.8</td>\n",
       "      <td>701</td>\n",
       "      <td>18</td>\n",
       "      <td>906</td>\n",
       "      <td>129</td>\n",
       "      <td>78</td>\n",
       "      <td>19</td>\n",
       "      <td>110</td>\n",
       "      <td>403</td>\n",
       "      <td>683</td>\n",
       "      <td>104</td>\n",
       "      <td>858</td>\n",
       "      <td>729</td>\n",
       "      <td>474</td>\n",
       "    </tr>\n",
       "    <tr>\n",
       "      <th>997</th>\n",
       "      <td>998</td>\n",
       "      <td>Product_998</td>\n",
       "      <td>Sports</td>\n",
       "      <td>72.73</td>\n",
       "      <td>1.3</td>\n",
       "      <td>287</td>\n",
       "      <td>725</td>\n",
       "      <td>109</td>\n",
       "      <td>193</td>\n",
       "      <td>657</td>\n",
       "      <td>215</td>\n",
       "      <td>337</td>\n",
       "      <td>664</td>\n",
       "      <td>476</td>\n",
       "      <td>265</td>\n",
       "      <td>344</td>\n",
       "      <td>888</td>\n",
       "      <td>654</td>\n",
       "    </tr>\n",
       "    <tr>\n",
       "      <th>998</th>\n",
       "      <td>999</td>\n",
       "      <td>Product_999</td>\n",
       "      <td>Sports</td>\n",
       "      <td>475.37</td>\n",
       "      <td>1.2</td>\n",
       "      <td>720</td>\n",
       "      <td>196</td>\n",
       "      <td>191</td>\n",
       "      <td>315</td>\n",
       "      <td>622</td>\n",
       "      <td>854</td>\n",
       "      <td>122</td>\n",
       "      <td>65</td>\n",
       "      <td>938</td>\n",
       "      <td>521</td>\n",
       "      <td>268</td>\n",
       "      <td>60</td>\n",
       "      <td>394</td>\n",
       "    </tr>\n",
       "    <tr>\n",
       "      <th>999</th>\n",
       "      <td>1000</td>\n",
       "      <td>Product_1000</td>\n",
       "      <td>Toys</td>\n",
       "      <td>225.77</td>\n",
       "      <td>2.1</td>\n",
       "      <td>114</td>\n",
       "      <td>890</td>\n",
       "      <td>903</td>\n",
       "      <td>983</td>\n",
       "      <td>769</td>\n",
       "      <td>134</td>\n",
       "      <td>704</td>\n",
       "      <td>648</td>\n",
       "      <td>400</td>\n",
       "      <td>495</td>\n",
       "      <td>839</td>\n",
       "      <td>611</td>\n",
       "      <td>110</td>\n",
       "    </tr>\n",
       "  </tbody>\n",
       "</table>\n",
       "<p>1000 rows × 18 columns</p>\n",
       "</div>"
      ]
     },
     "metadata": {},
     "output_type": "display_data"
    }
   ],
   "execution_count": 21
  },
  {
   "cell_type": "markdown",
   "id": "9ef6f1a1-e18e-4b5e-8ae9-a880569f943d",
   "metadata": {},
   "source": [
    "## 1° Analise Exploratoria"
   ]
  },
  {
   "cell_type": "code",
   "id": "e0cf5103-bb46-4cac-a0f0-608a7b3af75e",
   "metadata": {
    "ExecuteTime": {
     "end_time": "2024-08-20T02:02:28.581703Z",
     "start_time": "2024-08-20T02:02:28.566726Z"
    }
   },
   "source": [
    "#Analise das colunas e tipos de dados\n",
    "df.info()"
   ],
   "outputs": [
    {
     "name": "stdout",
     "output_type": "stream",
     "text": [
      "<class 'pandas.core.frame.DataFrame'>\n",
      "RangeIndex: 1000 entries, 0 to 999\n",
      "Data columns (total 18 columns):\n",
      " #   Column          Non-Null Count  Dtype  \n",
      "---  ------          --------------  -----  \n",
      " 0   product_id      1000 non-null   int64  \n",
      " 1   product_name    1000 non-null   object \n",
      " 2   category        1000 non-null   object \n",
      " 3   price           1000 non-null   float64\n",
      " 4   review_score    1000 non-null   float64\n",
      " 5   review_count    1000 non-null   int64  \n",
      " 6   sales_month_1   1000 non-null   int64  \n",
      " 7   sales_month_2   1000 non-null   int64  \n",
      " 8   sales_month_3   1000 non-null   int64  \n",
      " 9   sales_month_4   1000 non-null   int64  \n",
      " 10  sales_month_5   1000 non-null   int64  \n",
      " 11  sales_month_6   1000 non-null   int64  \n",
      " 12  sales_month_7   1000 non-null   int64  \n",
      " 13  sales_month_8   1000 non-null   int64  \n",
      " 14  sales_month_9   1000 non-null   int64  \n",
      " 15  sales_month_10  1000 non-null   int64  \n",
      " 16  sales_month_11  1000 non-null   int64  \n",
      " 17  sales_month_12  1000 non-null   int64  \n",
      "dtypes: float64(2), int64(14), object(2)\n",
      "memory usage: 140.8+ KB\n"
     ]
    }
   ],
   "execution_count": 22
  },
  {
   "cell_type": "code",
   "id": "2968203d-9bda-44a5-8f6f-fc36dce7ea62",
   "metadata": {
    "ExecuteTime": {
     "end_time": "2024-08-20T02:02:28.661005Z",
     "start_time": "2024-08-20T02:02:28.623109Z"
    }
   },
   "source": [
    "df.describe()"
   ],
   "outputs": [
    {
     "data": {
      "text/plain": [
       "        product_id        price  review_score  review_count  sales_month_1  \\\n",
       "count  1000.000000  1000.000000   1000.000000   1000.000000    1000.000000   \n",
       "mean    500.500000   247.677130      3.027600    526.506000     498.306000   \n",
       "std     288.819436   144.607983      1.171243    282.269932     289.941478   \n",
       "min       1.000000     7.290000      1.000000      1.000000       0.000000   \n",
       "25%     250.750000   121.810000      2.000000    283.750000     245.500000   \n",
       "50%     500.500000   250.920000      3.100000    543.000000     507.500000   \n",
       "75%     750.250000   373.435000      4.000000    772.000000     740.750000   \n",
       "max    1000.000000   499.860000      5.000000    999.000000    1000.000000   \n",
       "\n",
       "       sales_month_2  sales_month_3  sales_month_4  sales_month_5  \\\n",
       "count    1000.000000    1000.000000    1000.000000    1000.000000   \n",
       "mean      507.661000     506.739000     503.823000     487.194000   \n",
       "std       285.992689     294.010873     286.645567     287.844324   \n",
       "min         2.000000       0.000000       0.000000       0.000000   \n",
       "25%       262.500000     243.750000     261.500000     221.000000   \n",
       "50%       508.000000     493.000000     501.500000     497.000000   \n",
       "75%       756.250000     777.250000     749.500000     727.000000   \n",
       "max      1000.000000     999.000000    1000.000000    1000.000000   \n",
       "\n",
       "       sales_month_6  sales_month_7  sales_month_8  sales_month_9  \\\n",
       "count    1000.000000    1000.000000    1000.000000    1000.000000   \n",
       "mean      491.653000     507.011000     504.569000     491.934000   \n",
       "std       289.234018     291.047287     289.945691     287.514731   \n",
       "min         0.000000       0.000000       5.000000       0.000000   \n",
       "25%       236.000000     254.000000     240.500000     247.250000   \n",
       "50%       479.500000     522.500000     499.500000     495.500000   \n",
       "75%       740.500000     757.250000     762.250000     735.250000   \n",
       "max      1000.000000    1000.000000    1000.000000    1000.000000   \n",
       "\n",
       "       sales_month_10  sales_month_11  sales_month_12  \n",
       "count     1000.000000      1000.00000     1000.000000  \n",
       "mean       514.798000       505.83800      500.386000  \n",
       "std        288.710119       288.82451      278.509459  \n",
       "min          1.000000         0.00000        4.000000  \n",
       "25%        267.000000       251.25000      259.000000  \n",
       "50%        532.000000       502.00000      500.500000  \n",
       "75%        770.250000       761.00000      730.000000  \n",
       "max       1000.000000      1000.00000     1000.000000  "
      ],
      "text/html": [
       "<div>\n",
       "<style scoped>\n",
       "    .dataframe tbody tr th:only-of-type {\n",
       "        vertical-align: middle;\n",
       "    }\n",
       "\n",
       "    .dataframe tbody tr th {\n",
       "        vertical-align: top;\n",
       "    }\n",
       "\n",
       "    .dataframe thead th {\n",
       "        text-align: right;\n",
       "    }\n",
       "</style>\n",
       "<table border=\"1\" class=\"dataframe\">\n",
       "  <thead>\n",
       "    <tr style=\"text-align: right;\">\n",
       "      <th></th>\n",
       "      <th>product_id</th>\n",
       "      <th>price</th>\n",
       "      <th>review_score</th>\n",
       "      <th>review_count</th>\n",
       "      <th>sales_month_1</th>\n",
       "      <th>sales_month_2</th>\n",
       "      <th>sales_month_3</th>\n",
       "      <th>sales_month_4</th>\n",
       "      <th>sales_month_5</th>\n",
       "      <th>sales_month_6</th>\n",
       "      <th>sales_month_7</th>\n",
       "      <th>sales_month_8</th>\n",
       "      <th>sales_month_9</th>\n",
       "      <th>sales_month_10</th>\n",
       "      <th>sales_month_11</th>\n",
       "      <th>sales_month_12</th>\n",
       "    </tr>\n",
       "  </thead>\n",
       "  <tbody>\n",
       "    <tr>\n",
       "      <th>count</th>\n",
       "      <td>1000.000000</td>\n",
       "      <td>1000.000000</td>\n",
       "      <td>1000.000000</td>\n",
       "      <td>1000.000000</td>\n",
       "      <td>1000.000000</td>\n",
       "      <td>1000.000000</td>\n",
       "      <td>1000.000000</td>\n",
       "      <td>1000.000000</td>\n",
       "      <td>1000.000000</td>\n",
       "      <td>1000.000000</td>\n",
       "      <td>1000.000000</td>\n",
       "      <td>1000.000000</td>\n",
       "      <td>1000.000000</td>\n",
       "      <td>1000.000000</td>\n",
       "      <td>1000.00000</td>\n",
       "      <td>1000.000000</td>\n",
       "    </tr>\n",
       "    <tr>\n",
       "      <th>mean</th>\n",
       "      <td>500.500000</td>\n",
       "      <td>247.677130</td>\n",
       "      <td>3.027600</td>\n",
       "      <td>526.506000</td>\n",
       "      <td>498.306000</td>\n",
       "      <td>507.661000</td>\n",
       "      <td>506.739000</td>\n",
       "      <td>503.823000</td>\n",
       "      <td>487.194000</td>\n",
       "      <td>491.653000</td>\n",
       "      <td>507.011000</td>\n",
       "      <td>504.569000</td>\n",
       "      <td>491.934000</td>\n",
       "      <td>514.798000</td>\n",
       "      <td>505.83800</td>\n",
       "      <td>500.386000</td>\n",
       "    </tr>\n",
       "    <tr>\n",
       "      <th>std</th>\n",
       "      <td>288.819436</td>\n",
       "      <td>144.607983</td>\n",
       "      <td>1.171243</td>\n",
       "      <td>282.269932</td>\n",
       "      <td>289.941478</td>\n",
       "      <td>285.992689</td>\n",
       "      <td>294.010873</td>\n",
       "      <td>286.645567</td>\n",
       "      <td>287.844324</td>\n",
       "      <td>289.234018</td>\n",
       "      <td>291.047287</td>\n",
       "      <td>289.945691</td>\n",
       "      <td>287.514731</td>\n",
       "      <td>288.710119</td>\n",
       "      <td>288.82451</td>\n",
       "      <td>278.509459</td>\n",
       "    </tr>\n",
       "    <tr>\n",
       "      <th>min</th>\n",
       "      <td>1.000000</td>\n",
       "      <td>7.290000</td>\n",
       "      <td>1.000000</td>\n",
       "      <td>1.000000</td>\n",
       "      <td>0.000000</td>\n",
       "      <td>2.000000</td>\n",
       "      <td>0.000000</td>\n",
       "      <td>0.000000</td>\n",
       "      <td>0.000000</td>\n",
       "      <td>0.000000</td>\n",
       "      <td>0.000000</td>\n",
       "      <td>5.000000</td>\n",
       "      <td>0.000000</td>\n",
       "      <td>1.000000</td>\n",
       "      <td>0.00000</td>\n",
       "      <td>4.000000</td>\n",
       "    </tr>\n",
       "    <tr>\n",
       "      <th>25%</th>\n",
       "      <td>250.750000</td>\n",
       "      <td>121.810000</td>\n",
       "      <td>2.000000</td>\n",
       "      <td>283.750000</td>\n",
       "      <td>245.500000</td>\n",
       "      <td>262.500000</td>\n",
       "      <td>243.750000</td>\n",
       "      <td>261.500000</td>\n",
       "      <td>221.000000</td>\n",
       "      <td>236.000000</td>\n",
       "      <td>254.000000</td>\n",
       "      <td>240.500000</td>\n",
       "      <td>247.250000</td>\n",
       "      <td>267.000000</td>\n",
       "      <td>251.25000</td>\n",
       "      <td>259.000000</td>\n",
       "    </tr>\n",
       "    <tr>\n",
       "      <th>50%</th>\n",
       "      <td>500.500000</td>\n",
       "      <td>250.920000</td>\n",
       "      <td>3.100000</td>\n",
       "      <td>543.000000</td>\n",
       "      <td>507.500000</td>\n",
       "      <td>508.000000</td>\n",
       "      <td>493.000000</td>\n",
       "      <td>501.500000</td>\n",
       "      <td>497.000000</td>\n",
       "      <td>479.500000</td>\n",
       "      <td>522.500000</td>\n",
       "      <td>499.500000</td>\n",
       "      <td>495.500000</td>\n",
       "      <td>532.000000</td>\n",
       "      <td>502.00000</td>\n",
       "      <td>500.500000</td>\n",
       "    </tr>\n",
       "    <tr>\n",
       "      <th>75%</th>\n",
       "      <td>750.250000</td>\n",
       "      <td>373.435000</td>\n",
       "      <td>4.000000</td>\n",
       "      <td>772.000000</td>\n",
       "      <td>740.750000</td>\n",
       "      <td>756.250000</td>\n",
       "      <td>777.250000</td>\n",
       "      <td>749.500000</td>\n",
       "      <td>727.000000</td>\n",
       "      <td>740.500000</td>\n",
       "      <td>757.250000</td>\n",
       "      <td>762.250000</td>\n",
       "      <td>735.250000</td>\n",
       "      <td>770.250000</td>\n",
       "      <td>761.00000</td>\n",
       "      <td>730.000000</td>\n",
       "    </tr>\n",
       "    <tr>\n",
       "      <th>max</th>\n",
       "      <td>1000.000000</td>\n",
       "      <td>499.860000</td>\n",
       "      <td>5.000000</td>\n",
       "      <td>999.000000</td>\n",
       "      <td>1000.000000</td>\n",
       "      <td>1000.000000</td>\n",
       "      <td>999.000000</td>\n",
       "      <td>1000.000000</td>\n",
       "      <td>1000.000000</td>\n",
       "      <td>1000.000000</td>\n",
       "      <td>1000.000000</td>\n",
       "      <td>1000.000000</td>\n",
       "      <td>1000.000000</td>\n",
       "      <td>1000.000000</td>\n",
       "      <td>1000.00000</td>\n",
       "      <td>1000.000000</td>\n",
       "    </tr>\n",
       "  </tbody>\n",
       "</table>\n",
       "</div>"
      ]
     },
     "execution_count": 23,
     "metadata": {},
     "output_type": "execute_result"
    }
   ],
   "execution_count": 23
  },
  {
   "cell_type": "markdown",
   "id": "6d7c359f-7106-4424-be6b-89dcefbc0895",
   "metadata": {},
   "source": [
    "\n",
    "**Analise inicial: Foi possivel validar as colunas e tipos de dados que cada coluna possui e é percepitivel que este df trata-se de uma base de dados ja \"Tratada\". Devido a não necessidade de nenhum ajuste inicial, por exemplo:  tido de dado e valores nulos**\n",
    "\n",
    "> Ações necassarias: Criação de features para analise dos comportamentos dos dados (Analise descritiva)"
   ]
  },
  {
   "cell_type": "markdown",
   "id": "23bfa40e-f482-467b-8750-0e9e079ad20f",
   "metadata": {},
   "source": [
    "## 2° Analise Descritiva"
   ]
  },
  {
   "cell_type": "markdown",
   "id": "257857af-50f2-435f-8baf-2f4e98c26d14",
   "metadata": {},
   "source": [
    "### Feature Engineering\n",
    "\n",
    "\n",
    "#### Criação de novas colunas com base em estatísticas agregadas:\n",
    "\n",
    "> Média de vendas mensais: Coluna que represente a média de vendas por mês para cada produto.\n",
    "\n",
    "> Variância das vendas: Coluna com a variância das vendas mensais para dar uma ideia de quanto as vendas variam ao longo do tempo.\n",
    "\n",
    "> Proporção do preço em relação à média da categoria: Coluna para calcular o preço de um produto em relação à média dos preços da categoria.\n",
    "\n",
    "> Log-transform: Aplicar uma transformação logarítmica em variáveis como preço ou vendas totais pode ajudar a estabilizar a variância e tornar os padrões mais visíveis.\n",
    "\n",
    "> Faixas de preço: Criação de categorias para faixas de preço, como \"baixo\", \"médio\" e \"alto\".\n",
    "\n",
    "> Mês de pico de vendas: \"Analise de sazonalidade\" para identificar o mês em que cada produto teve o pico de vendas.\n",
    "\n",
    "> Interação entre preço e avaliação: Mutilicar o preço pela pontuação de avaliação para entender o impacto combinado no desempenho do produto.\n",
    "\n",
    "> Quantidade total vendida: Coluna com a soma de todas as unidades vendidas de cada produto.\n",
    "\n",
    "> Valor total vendido: Coluna com a multiplicação da coluna quantidade vendida com a coluna price\n",
    "\n",
    "> Encoding de categorias: vamos utilizar o One-Hot Encoding, pois pretendemos usar modelos de aprendizado de máquina, o One-Hot Encoding pode ser mais apropriado para categorizar as colunas, ao inves de Label Encoding que é mais apropriado para categorizar ordem implicita.\n",
    "\n",
    "##### Exemplos de Encoding:\n",
    "1. Label Encoding (Codificação por Rótulos):\n",
    "Quando usar: É útil quando as categorias têm uma ordem implícita ou quando você deseja manter as categorias em uma única coluna com valores numéricos.\n",
    "Como funciona: Cada categoria única é substituída por um número inteiro. Por exemplo, se você tem as categorias \"Baixo\", \"Médio\" e \"Alto\", elas podem ser codificadas como 0, 1 e 2, respectivamente.\n",
    "Limitações: Essa abordagem cria uma ordem numérica que pode não fazer sentido se as categorias forem nominais (sem ordem intrínseca).\n",
    "\n",
    "\n",
    "\n",
    "2. One-Hot Encoding:\n",
    "Quando usar: É mais adequado quando as categorias são nominais, ou seja, não têm uma ordem intrínseca, e você não deseja impor uma ordem artificial. Também é a abordagem mais comum em aprendizado de máquina.\n",
    "Como funciona: Cria colunas binárias (0 ou 1) para cada categoria única, onde 1 indica a presença da categoria para uma linha específica.\n",
    "Limitações: Pode resultar em um grande número de colunas se houver muitas categorias diferentes.\n",
    "\n",
    "\n",
    "\n",
    "\n",
    "```python\n",
    "\n",
    "# Exemplo sintaxe: Label Encoding\n",
    "\n",
    "from sklearn.preprocessing import LabelEncoder\n",
    "\n",
    "label_encoder = LabelEncoder()\n",
    "df['categoria_encoded'] = label_encoder.fit_transform(df['categoria\n",
    "\n",
    "\n",
    "```\n",
    "\n",
    "```python\n",
    "# Exemplo sintaxe: One-Hot Encoding\n",
    "\n",
    "df = pd.get_dummies(df, columns=['categoria'], prefix='cat')es.\n",
    "\n"
   ]
  },
  {
   "cell_type": "code",
   "id": "2a940331-a63d-4cc7-8456-30e45a4e451f",
   "metadata": {
    "ExecuteTime": {
     "end_time": "2024-08-20T02:02:28.754320Z",
     "start_time": "2024-08-20T02:02:28.745343Z"
    }
   },
   "source": [
    "# Criação de duas colunas com a media de vendas mensais e Variancia das vendas:\n",
    "df['mean_sales'] = df[[f'sales_month_{i}' for i in range(1, 13)]].mean(axis=1)\n",
    "df['variance_sales'] = df[[f'sales_month_{i}' for i in range(1, 13)]].var(axis=1)"
   ],
   "outputs": [],
   "execution_count": 24
  },
  {
   "cell_type": "code",
   "id": "0738aeed-cdfa-4e44-8f51-b01e154d508e",
   "metadata": {
    "ExecuteTime": {
     "end_time": "2024-08-20T02:02:28.785887Z",
     "start_time": "2024-08-20T02:02:28.780791Z"
    }
   },
   "source": [
    "# Criação de coluna com a proporção do preço em relação a media da categoria\n",
    "df['price_to_category_mean'] = df['price'] / df.groupby('category')['price'].transform('mean')"
   ],
   "outputs": [],
   "execution_count": 25
  },
  {
   "cell_type": "code",
   "id": "5d78d4ea-b953-402c-927d-2f0a418bec4b",
   "metadata": {
    "ExecuteTime": {
     "end_time": "2024-08-20T02:02:28.815997Z",
     "start_time": "2024-08-20T02:02:28.810008Z"
    }
   },
   "source": [
    "#Criação de duas features [Qtd.Total vendido] e [Vlr.Total vendido]\n",
    "df['quantity_total_ sold'] = df[['sales_month_1', 'sales_month_2', 'sales_month_3',\\\n",
    "                              'sales_month_4','sales_month_5','sales_month_6',\\\n",
    "                              'sales_month_7','sales_month_8','sales_month_9',\\\n",
    "                              'sales_month_10','sales_month_11','sales_month_12']].sum(axis=1)\n",
    "\n",
    "df['amount_total_sold'] = df['quantity_total_ sold'] * df['price']"
   ],
   "outputs": [],
   "execution_count": 26
  },
  {
   "cell_type": "code",
   "id": "7f748f22-9853-49d2-a9b3-3d5de469cc79",
   "metadata": {
    "ExecuteTime": {
     "end_time": "2024-08-20T02:02:28.846875Z",
     "start_time": "2024-08-20T02:02:28.832951Z"
    }
   },
   "source": [
    "#Transformação logaritimica nas variaveis de preco e venda para tonar os padõres mais visiveis\n",
    "df['log_price'] = np.log1p(df['price'])\n",
    "df['log_total_sales'] = np.log1p(df['amount_total_sold'])"
   ],
   "outputs": [],
   "execution_count": 27
  },
  {
   "cell_type": "code",
   "id": "16621e2b-27ed-410c-b6c3-991d32215e8c",
   "metadata": {
    "ExecuteTime": {
     "end_time": "2024-08-20T02:02:28.955672Z",
     "start_time": "2024-08-20T02:02:28.936798Z"
    }
   },
   "source": [
    "#Criação de categorias\n",
    "bins = [0, 100, 300, np.inf]\n",
    "labels = ['Low', 'Medium', 'High']\n",
    "df['price_range'] = pd.cut(df['price'], bins=bins, labels=labels)"
   ],
   "outputs": [],
   "execution_count": 28
  },
  {
   "cell_type": "code",
   "id": "bd249f95-8348-45a3-8f01-8071901150c5",
   "metadata": {
    "ExecuteTime": {
     "end_time": "2024-08-20T02:02:29.018567Z",
     "start_time": "2024-08-20T02:02:29.005081Z"
    }
   },
   "source": [
    "#Analise de sazonalidade \n",
    "df['peak_month'] = df[[f'sales_month_{i}' for i in range(1, 13)]].idxmax(axis=1).str.extract(r'(\\d+)').astype(int)"
   ],
   "outputs": [],
   "execution_count": 29
  },
  {
   "cell_type": "code",
   "id": "de43b29a-b0b4-4cbf-acd9-7661ae7af298",
   "metadata": {
    "ExecuteTime": {
     "end_time": "2024-08-20T02:02:29.064444Z",
     "start_time": "2024-08-20T02:02:29.049485Z"
    }
   },
   "source": [
    "#Interação entre preço e avaliação: \n",
    "df['price_review_interaction'] = df['price'] * df['review_score']"
   ],
   "outputs": [],
   "execution_count": 30
  },
  {
   "cell_type": "code",
   "id": "288787d1-ac56-499a-9575-fd5484be11fa",
   "metadata": {
    "scrolled": true,
    "ExecuteTime": {
     "end_time": "2024-08-20T02:02:29.095584Z",
     "start_time": "2024-08-20T02:02:29.069433Z"
    }
   },
   "source": [
    "#Gerando relatorio Profiling Report para ler as fetures e identificar media, mediana, desvio padrão e etc..\n",
    "profile = ProfileReport(df, title=\"Profiling Report\") \n",
    "profile.to_file(\"profiling_report.html\") # Salvando arquivo HTML\n",
    "profile # Devido ao problema de visualização do girhub, o relatorio HTML foi salvo como profiling_report.html"
   ],
   "outputs": [
    {
     "ename": "NameError",
     "evalue": "name 'ProfileReport' is not defined",
     "output_type": "error",
     "traceback": [
      "\u001B[1;31m---------------------------------------------------------------------------\u001B[0m",
      "\u001B[1;31mNameError\u001B[0m                                 Traceback (most recent call last)",
      "Input \u001B[1;32mIn [31]\u001B[0m, in \u001B[0;36m<cell line: 2>\u001B[1;34m()\u001B[0m\n\u001B[0;32m      1\u001B[0m \u001B[38;5;66;03m#Gerando relatorio Profiling Report para ler as fetures e identificar media, mediana, desvio padrão e etc..\u001B[39;00m\n\u001B[1;32m----> 2\u001B[0m profile \u001B[38;5;241m=\u001B[39m \u001B[43mProfileReport\u001B[49m(df, title\u001B[38;5;241m=\u001B[39m\u001B[38;5;124m\"\u001B[39m\u001B[38;5;124mProfiling Report\u001B[39m\u001B[38;5;124m\"\u001B[39m) \n\u001B[0;32m      3\u001B[0m profile\u001B[38;5;241m.\u001B[39mto_file(\u001B[38;5;124m\"\u001B[39m\u001B[38;5;124mprofiling_report.html\u001B[39m\u001B[38;5;124m\"\u001B[39m) \u001B[38;5;66;03m# Salvando arquivo HTML\u001B[39;00m\n\u001B[0;32m      4\u001B[0m profile\n",
      "\u001B[1;31mNameError\u001B[0m: name 'ProfileReport' is not defined"
     ]
    }
   ],
   "execution_count": 31
  },
  {
   "cell_type": "code",
   "id": "4af37126-c7b1-4d75-a8c5-9f174f8097b7",
   "metadata": {},
   "source": [
    "#Distribuição de vendas médias por categoria \n",
    "plt.figure(figsize=(10, 6))\n",
    "sns.boxplot(x='category', y='mean_sales', data=df)\n",
    "plt.title('Boxplot de Vendas Médias por Categoria')\n",
    "plt.xticks(rotation=45)\n",
    "plt.show()"
   ],
   "outputs": [],
   "execution_count": null
  },
  {
   "cell_type": "markdown",
   "id": "0fb7d295-7a41-4bc0-93c5-7e8cfa1cb112",
   "metadata": {},
   "source": [
    "##### Conclusão boxplot\n",
    "As categorias apresentam distribuições de vendas relativamente equilibradas, exceto Books, que mostra maior variabilidade, e Electronics, que tem outliers indicando vendas pontuais altas.\n",
    "Pode ser interessante investigar mais a fundo os outliers em Electronics para entender o que impulsionou as vendas nesses casos."
   ]
  },
  {
   "cell_type": "code",
   "id": "e8742d72-a1d7-4973-9ccc-d8809aac4105",
   "metadata": {},
   "source": [
    "#Criação de Categorias (Faixas de Preço)\n",
    "plt.figure(figsize=(9.2, 3))\n",
    "sns.countplot(x='price_range', data=df)\n",
    "plt.title('Contagem de Produtos por Faixa de Preço')\n",
    "plt.xlabel('Faixa de Preço')\n",
    "plt.ylabel('Contagem')\n",
    "plt.show()\n",
    "\n",
    "plt.tight_layout()\n",
    "plt.show()"
   ],
   "outputs": [],
   "execution_count": null
  },
  {
   "cell_type": "markdown",
   "id": "4449792a-dd42-4ac0-b5b9-84f0abad750a",
   "metadata": {},
   "source": [
    "##### Interpretação dos Padrões:\n",
    "\n",
    "+ Distribuição da faixa de preço: Este grafico apenas confirma a analise de distribuição de valores, porem sem a plicação logarítmica nos preços, o que mostra consistência na conclusão da analise do conjuntos de graficos no 'profile.html' onde conseguimos ver a adistribuição no log_total_sales e log_price. A distribuição do volume de produtos e valor estão classificados entre valores medios e altos em relação a todo volume de produtos, ou seja possuimos uma grande quantidade de produtos com preco medio e alta em relação a todos os produtos do e-comerce."
   ]
  },
  {
   "cell_type": "code",
   "id": "7b0c3cc7-2c39-4282-8f61-b67fe9106c51",
   "metadata": {
    "ExecuteTime": {
     "end_time": "2024-08-20T02:02:29.268693Z",
     "start_time": "2024-08-20T02:02:29.130465Z"
    }
   },
   "source": [
    "# Analise de Sazonalidade (Mês de Pico de Vendas):\n",
    "plt.figure(figsize=(10, 6))\n",
    "sns.countplot(x='peak_month', data=df)\n",
    "plt.title('Mês de Pico de Vendas por Produto')\n",
    "plt.xlabel('Mês')\n",
    "plt.ylabel('Contagem de Produtos')\n",
    "plt.show()"
   ],
   "outputs": [
    {
     "data": {
      "text/plain": [
       "<Figure size 720x432 with 1 Axes>"
      ],
      "image/png": "[encoded data removed]"
     },
     "metadata": {
      "needs_background": "light"
     },
     "output_type": "display_data"
    }
   ],
   "execution_count": 32
  },
  {
   "cell_type": "markdown",
   "id": "6972b1dc-55cb-47e6-8d05-1a755311f58c",
   "metadata": {},
   "source": [
    "##### Analise sazonalidade\n",
    "\n",
    "1. Interpretação:\n",
    "\n",
    "+ Mês 7 (Julho): É claramente o mês com o maior número de produtos atingindo seu pico de vendas. Isso pode indicar uma forte demanda sazonal, possivelmente devido a promoções de meio de ano ou férias.\n",
    "\n",
    "+ Demais Meses: Há uma distribuição relativamente uniforme para os outros meses, com exceção do mês 12 (Dezembro), que tem a menor contagem de produtos atingindo o pico de vendas. Isso pode ser um indicativo de que alguns produtos não têm um aumento significativo de vendas durante o período natalino."
   ]
  },
  {
   "cell_type": "code",
   "id": "831dc93f-dd46-4f45-8af8-57b901c77959",
   "metadata": {
    "ExecuteTime": {
     "end_time": "2024-08-20T02:02:29.616038Z",
     "start_time": "2024-08-20T02:02:29.269692Z"
    }
   },
   "source": [
    "# Cria uma tabela cruzada (crosstab) para contar as categorias por mês de pico de vendas\n",
    "category_peak_month = pd.crosstab(df['peak_month'], df['category'])\n",
    "\n",
    "# Cria um gráfico de calor (heatmap)\n",
    "plt.figure(figsize=(10, 5))\n",
    "sns.heatmap(category_peak_month, cmap='Blues', annot=True, fmt='d')\n",
    "plt.title('Categorias de Produtos por Mês de Pico de Vendas')\n",
    "plt.xlabel('Categoria')\n",
    "plt.ylabel('Mês de Pico')\n",
    "plt.show()"
   ],
   "outputs": [
    {
     "data": {
      "text/plain": [
       "<Figure size 720x360 with 2 Axes>"
      ],
      "image/png": "[encoded data removed]"
     },
     "metadata": {
      "needs_background": "light"
     },
     "output_type": "display_data"
    }
   ],
   "execution_count": 33
  },
  {
   "cell_type": "markdown",
   "id": "41a7fe1c-043a-4b3f-800b-7a42f4542eba",
   "metadata": {},
   "source": [
    "##### Interpretação dos Padrões:\n",
    "\n",
    "+ Com o mapa de calor conseguimos entender quais foram as categorias mais vendidades durantes os meses, é notavel a quantidade de vendas de eletronicos no mes 7 (Julho) o que impactou significativamente nas vendas do mês, devido a alta correlação. O mesmo impcto em eletetronicos ocorreu em Dezembro, porem o impacto foi o contrario do mês de Julho."
   ]
  },
  {
   "cell_type": "code",
   "id": "b542d770-25b8-4608-8e31-cc7f3f8953cc",
   "metadata": {
    "ExecuteTime": {
     "end_time": "2024-08-20T02:02:29.834456Z",
     "start_time": "2024-08-20T02:02:29.617009Z"
    }
   },
   "source": [
    "#Gráfico de dispersão para explorar a relação entre preço, avaliação e a interação entre eles\n",
    "plt.figure(figsize=(10, 6))\n",
    "sns.scatterplot(x='price', y='price_review_interaction', hue='review_score', data=df, palette='viridis')\n",
    "plt.title('Interação entre Preço e Avaliação')\n",
    "plt.xlabel('Preço')\n",
    "plt.ylabel('Interação Preço x Avaliação')\n",
    "plt.show()"
   ],
   "outputs": [
    {
     "data": {
      "text/plain": [
       "<Figure size 720x432 with 1 Axes>"
      ],
      "image/png": "[encoded data removed]"
     },
     "metadata": {
      "needs_background": "light"
     },
     "output_type": "display_data"
    }
   ],
   "execution_count": 34
  },
  {
   "cell_type": "markdown",
   "id": "809db204-a9ce-4fc4-aefe-c7f07da85c34",
   "metadata": {},
   "source": [
    "##### Interpretação dos Padrões:\n",
    "\n",
    "O gráfico mostra a relação entre o preço e a avaliação de um produto. O eixo x representa o preço do produto, e o eixo y representa a avaliação média do produto. A linha no gráfico mostra a tendência geral da relação entre o preço e a avaliação.\n",
    "\n",
    "No geral, o gráfico mostra que há uma correlação positiva entre o preço e a avaliação do produto. Isso significa que, em geral, produtos com preços mais altos tendem a ter avaliações mais altas."
   ]
  },
  {
   "cell_type": "markdown",
   "id": "aa11209f-a412-486f-8092-ef187a5da8cd",
   "metadata": {},
   "source": [
    "### Conclusão analise exploratoria e descritiva\n",
    "\n",
    "1. count: Todas as colunas têm 1000 registros. Isso indica que não há valores ausentes nos dados.\n",
    "\n",
    "2. mean (média):\n",
    "O preço médio dos produtos (price) é 247,67.\n",
    "A pontuação média das avaliações (review_score) é 3,03 o que sugere que, em média, os produtos têm uma avaliação satisfatória.\n",
    "As vendas médias por mês variam entre 487,19 e 514,80, mostrando uma certa consistência nas vendas ao longo dos meses.\n",
    "\n",
    "\n",
    "3. std (desvio padrão):\n",
    "O desvio padrão do preço (price) é 144,61, indicando que há uma grande variação nos preços dos produtos. Esse desvio representa 58% do valor medio do produto gerando uma grande dispeção nos preços.\n",
    "\n",
    "4. A pontuação de avaliação tem um desvio padrão de 1,17, sugerindo alguma dispersão nas avaliações dos produtos.\n",
    "As vendas mensais têm desvios padrão em torno de 280-290, o que pode indicar que há variações consideráveis nas vendas mensais entre os produtos.\n",
    "\n",
    "\n",
    "5. min e max:\n",
    "O menor preço registrado é 7,29, enquanto o maior é 499,86. Isso sugere uma ampla faixa de preços.\n",
    "A pontuação de avaliação varia de 1 a 5, com alguns produtos recebendo avaliações baixas (1) e outros recebendo a pontuação máxima (5).\n",
    "As vendas mensais têm um mínimo de 0, indicando que alguns produtos não venderam nada em certos meses, enquanto o máximo é 1000, mostrando que alguns produtos tiveram vendas muito altas.\n",
    "\n",
    "6. Quartis (25%, 50%, 75%):\n",
    "Para o preço, 25% dos produtos têm preços abaixo de 121,81, e 75% dos produtos têm preços abaixo de 373,43.\n",
    "A pontuação da avaliação mediana é 3,1, o que confirma que a maioria dos produtos tem uma avaliação ao redor da média.\n",
    "As vendas mensais medianas variam, mas a maioria está na faixa de 479 a 543, o que mostra uma distribuição relativamente equilibrada das vendas.\n",
    "\n",
    "7. Correlação de variaves:\n",
    "Notei que em alguns meses a correlação entre categoria e mes de venda ficam mais fortes entre os meses do final de ano, o que sugere que alguns produtos são mais vendidos nos ultimos meses do ano, certamente em datas comemorativas.\n",
    "\n",
    "#### Conclusões gerais:\n",
    "\n",
    "#### Sobre o DF:\n",
    "+ O dataset possui uma certa consistencia nos dados, não foi identificador outliers relevantes dentro do periodo de vendas de um ano, nem valores nulos, foi necessario aplicar as tecnicas de feature Engineering para identifica padrões e extrair insights na analise descritiva.\n",
    "\n",
    "+ Principais percepções: As categorias apresentam distribuições de vendas relativamente equilibradas, exceto Books, que mostra maior variabilidade, e Electronics, que tem outliers indicando vendas pontuais altas.\n",
    "\n",
    "    - Sazonalidade: O Mês de julho claramente teve o maior número de produtos atingindo seu pico de vendas equanto os demais meses se manteve uniforme com exceção de Dezembro que tem a menor contagem de produtos,s. Isso pode ser um indicativo de que alguns produtos não têm um aumento significativo de vendas durante o período natalin\n",
    "    - Iteração entre preço e avalidação: Existe uma correlação entre valor do produto e avaliação, indicando que os produtos melhor avaliados são os de mairo preço, ou seja o preço baixo do produto nao indica uma satifação maior na compra.\n",
    "\n",
    "\n",
    "\n",
    "\n",
    "+ Pontuação de avaliação: A pontuação média de avaliação está perto de 3, o que pode sugerir que há espaço para melhoria na qualidade ou no atendimento relacionado aos produtos.\n",
    "\n",
    "+ Variação nas vendas mensais: Embora haja consistência nas vendas médias mensais, o desvio padrão alto e os valores mínimos e máximos indicam que alguns produtos vendem muito bem, enquanto outros podem não estar vendendo tão bem, ou mesmo nada, em certos meses."
   ]
  },
  {
   "cell_type": "markdown",
   "id": "29d7b519-3076-49b5-8dff-98438fff4b40",
   "metadata": {},
   "source": [
    "## 3° Analise preditiva: Modelos de ML"
   ]
  },
  {
   "cell_type": "markdown",
   "id": "1e1ae2d1-33f3-45e2-b81c-3bf00b6cf494",
   "metadata": {},
   "source": [
    "#### Modelagem dos dados"
   ]
  },
  {
   "cell_type": "code",
   "id": "1a7c7768-24fa-40d6-abd1-06e98e99dc38",
   "metadata": {
    "ExecuteTime": {
     "end_time": "2024-08-20T02:02:29.865405Z",
     "start_time": "2024-08-20T02:02:29.835426Z"
    }
   },
   "source": [
    "# Criação de One-Hot Encoding para cada categoria de produto\n",
    "X = pd.get_dummies(df, columns=['category'], prefix='cat')\n",
    "\n",
    "# Definindo as variáveis independentes (X) e a variável dependente (y)\n",
    "X = df.drop(columns=['amount_total_sold'])  # Excluindo apenas a coluna 'amount_total_sold' para não inveizar o modelo\n",
    "y = df['amount_total_sold']  # Variável que desejamos prever\n",
    "\n",
    "# Dividindo os dados em treino e teste\n",
    "X_train, X_test, y_train, y_test = train_test_split(X, y, test_size=0.2, random_state=42)\n",
    "\n",
    "# Salvando as bases de treino e teste para futura visualização\n",
    "X_train.to_csv('X_train.csv', index=False)\n",
    "X_test.to_csv('X_test.csv', index=False)\n",
    "y_train.to_csv('y_train.csv', index=False)\n",
    "y_test.to_csv('y_test.csv', index=False)"
   ],
   "outputs": [
    {
     "ename": "NameError",
     "evalue": "name 'train_test_split' is not defined",
     "output_type": "error",
     "traceback": [
      "\u001B[1;31m---------------------------------------------------------------------------\u001B[0m",
      "\u001B[1;31mNameError\u001B[0m                                 Traceback (most recent call last)",
      "Input \u001B[1;32mIn [35]\u001B[0m, in \u001B[0;36m<cell line: 9>\u001B[1;34m()\u001B[0m\n\u001B[0;32m      6\u001B[0m y \u001B[38;5;241m=\u001B[39m df[\u001B[38;5;124m'\u001B[39m\u001B[38;5;124mamount_total_sold\u001B[39m\u001B[38;5;124m'\u001B[39m]  \u001B[38;5;66;03m# Variável que desejamos prever\u001B[39;00m\n\u001B[0;32m      8\u001B[0m \u001B[38;5;66;03m# Dividindo os dados em treino e teste\u001B[39;00m\n\u001B[1;32m----> 9\u001B[0m X_train, X_test, y_train, y_test \u001B[38;5;241m=\u001B[39m \u001B[43mtrain_test_split\u001B[49m(X, y, test_size\u001B[38;5;241m=\u001B[39m\u001B[38;5;241m0.2\u001B[39m, random_state\u001B[38;5;241m=\u001B[39m\u001B[38;5;241m42\u001B[39m)\n\u001B[0;32m     11\u001B[0m \u001B[38;5;66;03m# Salvando as bases de treino e teste para futura visualização\u001B[39;00m\n\u001B[0;32m     12\u001B[0m X_train\u001B[38;5;241m.\u001B[39mto_csv(\u001B[38;5;124m'\u001B[39m\u001B[38;5;124mX_train.csv\u001B[39m\u001B[38;5;124m'\u001B[39m, index\u001B[38;5;241m=\u001B[39m\u001B[38;5;28;01mFalse\u001B[39;00m)\n",
      "\u001B[1;31mNameError\u001B[0m: name 'train_test_split' is not defined"
     ]
    }
   ],
   "execution_count": 35
  },
  {
   "cell_type": "markdown",
   "id": "4ee531c5-2ebf-4a2b-af47-fb09aa663c1f",
   "metadata": {},
   "source": [
    "#### Considerações\n",
    "\n",
    "1. **Proporção de Treino e Teste**\n",
    "+ **Proporção Comum:** Um padrão frequentemente usado é 80% dos dados para treino e 20% para teste. Isso permite que o modelo seja treinado em uma amostra robusta, enquanto ainda é avaliado em um conjunto de dados significativo.\n",
    "+ **Ajuste para Pequenos Conjuntos de Dados:** Se o conjunto de dados for pequeno, você pode considerar aumentar a proporção de dados de treino (por exemplo, 85% para treino e 15% para teste) para garantir que o modelo tenha dados suficientes para aprender.\n",
    "+ **Ajuste para Grandes Conjuntos de Dados:** Para grandes volumes de dados, uma divisão de 70% para treino e 30% para teste também pode ser apropriada.\n",
    "\n",
    "2. **Distribuição das Variáveis**\n",
    "+ **Distribuição Similar:** A divisão deve preservar a distribuição das variáveis, especialmente da variável alvo (a que você deseja prever). Isso significa que tanto a base de treino quanto a de teste devem refletir a mesma variabilidade dos dados.\n",
    "+ **Estratificação:** Se você tiver uma variável categórica importante, como classes desbalanceadas (por exemplo, muitas vendas baixas e poucas vendas altas), a divisão deve ser estratificada para garantir que ambas as bases contenham uma proporção representativa de cada categoria."
   ]
  },
  {
   "cell_type": "markdown",
   "id": "3298a5fd-b27c-4956-a9e5-5a4308412bb5",
   "metadata": {},
   "source": [
    "### Modelo de treino : Random Forest "
   ]
  },
  {
   "cell_type": "code",
   "id": "21cadec8-ce57-462e-9039-c402d5eb3ae5",
   "metadata": {},
   "source": [
    "# Removendo colunas não numéricas\n",
    "X_train = X_train.drop(columns=['product_name', 'category'])\n",
    "X_test = X_test.drop(columns=['product_name', 'category'])\n",
    "\n",
    "# Aplicando One-Hot Encoding na coluna 'price_range'\n",
    "X_train = pd.get_dummies(X_train, columns=['price_range'], prefix='price_range')\n",
    "X_test = pd.get_dummies(X_test, columns=['price_range'], prefix='price_range')\n",
    "\n",
    "# Treinando o modelo\n",
    "model = RandomForestRegressor(random_state=42)\n",
    "model.fit(X_train, y_train)\n",
    "\n",
    "# Fazendo previsões\n",
    "y_pred_rf = model.predict(X_test)\n",
    "\n",
    "# Avaliação do modelo\n",
    "mae_rf = mean_absolute_error(y_test, y_pred)\n",
    "mse_rf= mean_squared_error(y_test, y_pred)\n",
    "print(f'MAE: {mae}, MSE: {mse}')\n"
   ],
   "outputs": [],
   "execution_count": null
  },
  {
   "cell_type": "markdown",
   "id": "39168f1d-a71e-426f-8a5a-e19f09a8eb8e",
   "metadata": {},
   "source": [
    "### Modelo de treino : Regressão Linear"
   ]
  },
  {
   "cell_type": "code",
   "id": "31b6e7b8-8a29-4cb9-9dda-37824f7d6e10",
   "metadata": {},
   "source": [
    "# Instanciando o modelo\n",
    "linear_model = LinearRegression()\n",
    "\n",
    "# Treinando o modelo\n",
    "linear_model.fit(X_train, y_train)\n",
    "\n",
    "# Fazendo previsões\n",
    "y_pred_lr = linear_model.predict(X_test)\n",
    "\n",
    "# Avaliação do modelo\n",
    "mae_linear = mean_absolute_error(y_test, y_pred_linear)\n",
    "mse_linear = mean_squared_error(y_test, y_pred_linear)\n",
    "print(f'Regressão Linear - MAE: {mae_linear}, MSE: {mse_linear}')"
   ],
   "outputs": [],
   "execution_count": null
  },
  {
   "cell_type": "markdown",
   "id": "ac9a38a8-2363-4c72-bc06-b76027afb641",
   "metadata": {},
   "source": [
    "### Modelo de treino : XGBoost Regressor"
   ]
  },
  {
   "cell_type": "code",
   "id": "1dbb4c22-89d8-42a6-a796-874188f91fe6",
   "metadata": {},
   "source": [
    "# Instanciando o modelo\n",
    "xgb_model = XGBRegressor(random_state=42)\n",
    "\n",
    "# Treinando o modelo\n",
    "xgb_model.fit(X_train, y_train)\n",
    "\n",
    "# Fazendo previsões\n",
    "y_pred_xgb = xgb_model.predict(X_test)\n",
    "\n",
    "# Avaliação do modelo\n",
    "mae_xgb = mean_absolute_error(y_test, y_pred_xgb)\n",
    "mse_xgb = mean_squared_error(y_test, y_pred_xgb)\n",
    "print(f'XGBoost Regressor - MAE: {mae_xgb}, MSE: {mse_xgb}')"
   ],
   "outputs": [],
   "execution_count": null
  },
  {
   "cell_type": "markdown",
   "id": "6d9dfa3b-fb09-4e55-9b1c-b18fa63a23da",
   "metadata": {},
   "source": [
    "### Modelo de treino : Gradient Boosting Regressor"
   ]
  },
  {
   "cell_type": "code",
   "id": "5125b980-efd8-47ef-9f94-3f10814d1b1d",
   "metadata": {},
   "source": [
    "# Instanciando o modelo\n",
    "gbr_model = GradientBoostingRegressor(random_state=42)\n",
    "\n",
    "# Treinando o modelo\n",
    "gbr_model.fit(X_train, y_train)\n",
    "\n",
    "# Fazendo previsões\n",
    "y_pred_gbr = gbr_model.predict(X_test)\n",
    "\n",
    "# Avaliação do modelo\n",
    "mae_gbr = mean_absolute_error(y_test, y_pred_gbr)\n",
    "mse_gbr = mean_squared_error(y_test, y_pred_gbr)\n",
    "print(f'Gradient Boosting Regressor - MAE: {mae_gbr}, MSE: {mse_gbr}')"
   ],
   "outputs": [],
   "execution_count": null
  },
  {
   "cell_type": "markdown",
   "id": "29787cd5-4615-4d62-a1aa-fb957cfba923",
   "metadata": {},
   "source": [
    "### Analise do melhor modelo"
   ]
  },
  {
   "cell_type": "code",
   "id": "52c6a6f9-dfe5-4515-899f-3a204cafef3a",
   "metadata": {},
   "source": [
    "# Definindo os valores de MAE e MSE para cada modelo\n",
    "model_names = ['Random Forest', 'Linear Regression', 'XGBoost Regressor', 'Gradient Boosting']\n",
    "mae_values = [mae_rf, mae_linear, mae_xgb, mae_gbr]\n",
    "mse_values = [mse_rf, mse_linear, mse_xgb, mse_gbr]\n",
    "\n",
    "# Criando DataFrame para as métricas\n",
    "metrics_df = pd.DataFrame({\n",
    "    'Model': model_names,\n",
    "    'MAE': mae_values,\n",
    "    'MSE': mse_values\n",
    "})\n",
    "\n",
    "# Criando a figura e os eixos\n",
    "fig, axes = plt.subplots(1, 2, figsize=(15, 5))  # 1 linha, 2 colunas\n",
    "\n",
    "# Plotando o gráfico de MAE\n",
    "sns.barplot(ax=axes[0], x='Model', y='MAE', data=metrics_df, hue='Model', dodge=False, palette='viridis', legend=False)\n",
    "axes[0].set_title('Comparação de MAE entre Modelos')\n",
    "axes[0].set_ylabel('MAE')\n",
    "axes[0].set_xlabel('Modelos')\n",
    "\n",
    "# Plotando o gráfico de MSE\n",
    "sns.barplot(ax=axes[1], x='Model', y='MSE', data=metrics_df, hue='Model', dodge=False, palette='viridis', legend=False)\n",
    "axes[1].set_title('Comparação de MSE entre Modelos')\n",
    "axes[1].set_ylabel('MSE')\n",
    "axes[1].set_xlabel('Modelos')\n",
    "\n",
    "# Ajustando o layout\n",
    "plt.tight_layout()\n",
    "\n",
    "# Mostrar a figura\n",
    "plt.show()"
   ],
   "outputs": [],
   "execution_count": null
  },
  {
   "cell_type": "markdown",
   "id": "c12ac6f1-d12b-4bc3-8c1a-013f3a73f2f8",
   "metadata": {},
   "source": [
    "#### Conclusão do melhor modelo:\n",
    "\n",
    "##### Interpretação dos Resultados\n",
    "+ Random Forest: Apresentou os menores valores de MAE e MSE, indicando que é o modelo mais preciso entre os testados.\n",
    "+ Regressão Linear: Teve os maiores valores de MAE e MSE, sugerindo que é o modelo menos preciso.\n",
    "+ XGBoost Regressor e Gradient Boosting Regressor: Apresentaram resultados intermediários, com o Gradient Boosting sendo mais preciso que o XGBoost.\n",
    "\n",
    "\n",
    "##### Análise dos Resultados\n",
    "\n",
    "> MAE (Mean Absolute Error):\n",
    "\n",
    "+ O MAE da Regressão Linear (98,874.36) é muito maior do que o da Random Forest (3,833.85). Isso indica que a Random Forest tem um desempenho significativamente melhor em termos de erro absoluto médio.\n",
    "\n",
    "\n",
    ">MSE (Mean Squared Error):\n",
    "\n",
    "+ O MSE da Regressão Linear (18,736,420,807.01) também é muito superior ao da Random Forest (42,981,625.24), mostrando que a Regressão Linear possui um erro quadrático médio bem maior, o que sugere que ela tem mais dificuldades em prever com precisão os valores extremos."
   ]
  },
  {
   "cell_type": "markdown",
   "id": "f6d5190f-22d3-4e0f-a882-eaccfa33a825",
   "metadata": {},
   "source": [
    "### Visualizações Preditivas"
   ]
  },
  {
   "cell_type": "code",
   "id": "7e40d74a-faab-4a4f-b806-0478bd18000c",
   "metadata": {},
   "source": [
    "# Lista de previsões de cada modelo\n",
    "model_predictions = {\n",
    "    'Random Forest': y_pred_rf,\n",
    "    'Regressão Linear': y_pred_lr,\n",
    "    'XGBoost Regressor': y_pred_xgb,\n",
    "    'Gradient Boosting Regressor': y_pred_gbr\n",
    "}\n",
    "\n",
    "# Criando a figura e os eixos para os 4 gráficos (2x2 layout)\n",
    "fig, axes = plt.subplots(2, 2, figsize=(14, 10))\n",
    "\n",
    "# Acessar cada eixo para plotar os gráficos\n",
    "axes = axes.ravel()  # Ravel converte a matriz de eixos em uma lista para fácil iteração\n",
    "\n",
    "for idx, (model_name, y_pred) in enumerate(model_predictions.items()):\n",
    "    axes[idx].scatter(y_test, y_pred, c='blue', marker='o', label='Previsões')\n",
    "    axes[idx].plot([min(y_test), max(y_test)], [min(y_test), max(y_test)], 'k--', lw=2, label='Linha de Referência')\n",
    "    axes[idx].set_title(f'Comparação das Vendas Reais e Previstas - {model_name}')\n",
    "    axes[idx].set_xlabel('Vendas Reais')\n",
    "    axes[idx].set_ylabel('Vendas Previstas')\n",
    "    axes[idx].legend()\n",
    "    axes[idx].grid(True)\n",
    "\n",
    "# Ajusta o layout para não sobrepor os títulos e labels\n",
    "plt.tight_layout()\n",
    "plt.show()"
   ],
   "outputs": [],
   "execution_count": null
  },
  {
   "cell_type": "markdown",
   "id": "8b76c116-bbc4-40c7-b38b-9065fda04e6b",
   "metadata": {},
   "source": [
    "### Salvando os Resultados do modelo Radom Forest"
   ]
  },
  {
   "cell_type": "code",
   "id": "b9e49c73-ffb9-4113-a965-5548f3cd70e4",
   "metadata": {},
   "source": [
    "# Salvando as previsões\n",
    "pd.DataFrame(y_pred_rf, columns=['Vendas Previstas']).to_csv('vendas_previstas.csv', index=False)\n",
    "\n",
    "# Salvando o modelo\n",
    "joblib.dump(model, 'modelo_vendas_rf.pkl')\n"
   ],
   "outputs": [],
   "execution_count": null
  },
  {
   "cell_type": "code",
   "id": "5420691b-18fe-4bbc-aa87-3a2896afebfd",
   "metadata": {},
   "source": [],
   "outputs": [],
   "execution_count": null
  }
 ],
 "metadata": {
  "kernelspec": {
   "display_name": "Python 3 (ipykernel)",
   "language": "python",
   "name": "python3"
  },
  "language_info": {
   "codemirror_mode": {
    "name": "ipython",
    "version": 3
   },
   "file_extension": ".py",
   "mimetype": "text/x-python",
   "name": "python",
   "nbconvert_exporter": "python",
   "pygments_lexer": "ipython3",
   "version": "3.12.4"
  }
 },
 "nbformat": 4,
 "nbformat_minor": 5
}
